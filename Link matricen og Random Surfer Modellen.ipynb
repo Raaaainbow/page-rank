{
 "cells": [
  {
   "cell_type": "code",
   "execution_count": 31,
   "metadata": {},
   "outputs": [],
   "source": [
    "import cmath\n",
    "import matplotlib\n",
    "import sympy as sp\n",
    "import random as rand\n",
    "from sympy import init_printing\n",
    "init_printing()"
   ]
  },
  {
   "cell_type": "markdown",
   "metadata": {},
   "source": [
    "## Opgave 7"
   ]
  },
  {
   "cell_type": "code",
   "execution_count": 2,
   "metadata": {},
   "outputs": [],
   "source": [
    "W1 = {\n",
    "    'P1': {'P2', 'P3'},\n",
    "    'P2': {'P3'},\n",
    "    'P3': {'P1'},\n",
    "    'P4': {'P5'},\n",
    "    'P5': {}\n",
    "}\n",
    "W2 = {\n",
    "    'P1': {'P2'},\n",
    "    'P2': {'P3'},\n",
    "    'P3': {'P1'},\n",
    "    'P4': {'P5'},\n",
    "    'P5': {'P6'},\n",
    "    'P6': {'P4'}\n",
    "}"
   ]
  },
  {
   "cell_type": "code",
   "execution_count": 3,
   "metadata": {},
   "outputs": [
    {
     "data": {
      "text/latex": [
       "$\\displaystyle \\left[\\begin{matrix}0 & 0 & 1 & 0 & 0\\\\1 & 0 & 0 & 0 & 0\\\\1 & 1 & 0 & 0 & 0\\\\0 & 0 & 0 & 0 & 0\\\\0 & 0 & 0 & 1 & 0\\end{matrix}\\right]$"
      ],
      "text/plain": [
       "Matrix([\n",
       "[0, 0, 1, 0, 0],\n",
       "[1, 0, 0, 0, 0],\n",
       "[1, 1, 0, 0, 0],\n",
       "[0, 0, 0, 0, 0],\n",
       "[0, 0, 0, 1, 0]])"
      ]
     },
     "execution_count": 3,
     "metadata": {},
     "output_type": "execute_result"
    }
   ],
   "source": [
    "adjMatrixW1 = sp.Matrix([[0,0,1,0,0],\n",
    "                        [1,0,0,0,0],\n",
    "                        [1,1,0,0,0],\n",
    "                        [0,0,0,0,0],\n",
    "                        [0,0,0,1,0]])\n",
    "adjMatrixW1"
   ]
  },
  {
   "cell_type": "markdown",
   "metadata": {},
   "source": [
    "Vi ser at P5 er en sink, da det er en 0-vektor og ikke linker til andre hjemmesider."
   ]
  },
  {
   "cell_type": "markdown",
   "metadata": {},
   "source": [
    "# Opgave 8"
   ]
  },
  {
   "cell_type": "code",
   "execution_count": 4,
   "metadata": {},
   "outputs": [
    {
     "data": {
      "text/latex": [
       "$\\displaystyle \\left[\\begin{matrix}0 & 0 & 1 & 0 & 0.2\\\\0.5 & 0 & 0 & 0 & 0.2\\\\0.5 & 1 & 0 & 0 & 0.2\\\\0 & 0 & 0 & 0 & 0.2\\\\0 & 0 & 0 & 1 & 0.2\\end{matrix}\\right]$"
      ],
      "text/plain": [
       "Matrix([\n",
       "[  0, 0, 1, 0, 0.2],\n",
       "[0.5, 0, 0, 0, 0.2],\n",
       "[0.5, 1, 0, 0, 0.2],\n",
       "[  0, 0, 0, 0, 0.2],\n",
       "[  0, 0, 0, 1, 0.2]])"
      ]
     },
     "execution_count": 4,
     "metadata": {},
     "output_type": "execute_result"
    }
   ],
   "source": [
    "L_ij = sp.Matrix([[0,0,1,0,1/5],[1/2,0,0,0,1/5],[1/2,1,0,0,1/5],[0,0,0,0,1/5],[0,0,0,1,1/5]])\n",
    "L_ij"
   ]
  },
  {
   "cell_type": "markdown",
   "metadata": {},
   "source": [
    "Hvis der er link imellem P_j og P_i er sandsynligheden 1 over antallet af edges i P_j. Hvis P_j er en sink, så er sandsynligheden 1 over antallet af alle hjemmesider."
   ]
  },
  {
   "cell_type": "markdown",
   "metadata": {},
   "source": [
    "Alle søjlerne er sandsynlighedsvektorer. Deres elementer er ikke-negative og summerer til 1."
   ]
  },
  {
   "cell_type": "markdown",
   "metadata": {},
   "source": [
    "Det er nærmest det samme som matricen, fordi mange af hjemmesiderne kun linker til en anden hjemmeside. De fleste nuller bliver ved med at være 0, men for P5, som er en sink bliver sandsynligheden for at komme ind på en vilkårlig side 1/5. "
   ]
  },
  {
   "cell_type": "markdown",
   "metadata": {},
   "source": [
    "# Opgave 9"
   ]
  },
  {
   "cell_type": "code",
   "execution_count": 5,
   "metadata": {},
   "outputs": [],
   "source": [
    "def counter(p, counts):\n",
    "    if p in counts:\n",
    "        counts[p] += 1\n"
   ]
  },
  {
   "cell_type": "code",
   "execution_count": null,
   "metadata": {},
   "outputs": [],
   "source": [
    "chosenp = None\n",
    "def surf_step(web, p):\n",
    "    \n",
    "    # Input: Et netværk som dictionary og en start side\n",
    "    # Output: Sandsynlighedsfordeling som dictionary for næste hjemmeside\n",
    "    \n",
    "    distribution=dict()\n",
    "    counts = {key: 0 for key in web}\n",
    "    \n",
    "    distribution = dict(counts)\n",
    "\n",
    "    if not p:  \n",
    "        p = rand.choice(list(web.keys()))\n",
    "    elif not web[p]: \n",
    "        p = rand.choice(list(web.keys()))\n",
    "    else:\n",
    "        p = rand.choice(list(web[p]))\n",
    "    counter(p, counts)\n",
    "\n",
    "    global chosenp\n",
    "    chosenp = p\n",
    "\n",
    "    total = sum(counts.values())\n",
    "    if total > 0:\n",
    "        for i in counts:\n",
    "            distribution[i] = counts[i] / total\n",
    "\n",
    "    return distribution\n"
   ]
  },
  {
   "cell_type": "code",
   "execution_count": 18,
   "metadata": {},
   "outputs": [
    {
     "data": {
      "text/plain": [
       "{'P1': 0.0, 'P2': 1.0, 'P3': 0.0, 'P4': 0.0, 'P5': 0.0}"
      ]
     },
     "execution_count": 18,
     "metadata": {},
     "output_type": "execute_result"
    }
   ],
   "source": [
    "surf_step(W1, 'P1')"
   ]
  },
  {
   "cell_type": "markdown",
   "metadata": {},
   "source": [
    "# Opgave 10"
   ]
  },
  {
   "cell_type": "code",
   "execution_count": 40,
   "metadata": {},
   "outputs": [],
   "source": [
    "import random\n",
    "def random_surf(web, n):\n",
    "    \n",
    "    # Input: Et netværk som dictionary og en start side\n",
    "    # Output: Sandsynlighedsfordeling som dictionary for næste hjemmeside\n",
    "    \n",
    "    ranking = {key: 0 for key in web}\n",
    "\n",
    "    p = random.choice(list(web.keys()))\n",
    "\n",
    "    for _ in range(n):\n",
    "        temp = surf_step(web, p) \n",
    "        \n",
    "        for page in ranking:\n",
    "            ranking[page] += temp.get(page, 0)\n",
    "\n",
    "        p =  chosenp\n",
    "\n",
    "    for page in ranking:\n",
    "        ranking[page] /= n\n",
    "\n",
    "    return ranking\n",
    "\n",
    "\n"
   ]
  },
  {
   "cell_type": "markdown",
   "metadata": {},
   "source": [
    "# Opgave 11"
   ]
  },
  {
   "cell_type": "code",
   "execution_count": 41,
   "metadata": {},
   "outputs": [
    {
     "data": {
      "text/plain": [
       "{'P1': 0.38, 'P2': 0.23, 'P3': 0.39, 'P4': 0.0, 'P5': 0.0}"
      ]
     },
     "execution_count": 41,
     "metadata": {},
     "output_type": "execute_result"
    }
   ],
   "source": [
    "random_surf(W1, 100)"
   ]
  },
  {
   "cell_type": "code",
   "execution_count": 21,
   "metadata": {},
   "outputs": [
    {
     "data": {
      "text/plain": [
       "{'P1': 0.402, 'P2': 0.195, 'P3': 0.403, 'P4': 0.0, 'P5': 0.0}"
      ]
     },
     "execution_count": 21,
     "metadata": {},
     "output_type": "execute_result"
    }
   ],
   "source": [
    "random_surf(W1, 1000)"
   ]
  },
  {
   "cell_type": "code",
   "execution_count": 22,
   "metadata": {},
   "outputs": [
    {
     "data": {
      "text/plain": [
       "{'P1': 0.4015, 'P2': 0.1969, 'P3': 0.4016, 'P4': 0.0, 'P5': 0.0}"
      ]
     },
     "execution_count": 22,
     "metadata": {},
     "output_type": "execute_result"
    }
   ],
   "source": [
    "random_surf(W1, 10000)"
   ]
  },
  {
   "cell_type": "code",
   "execution_count": 23,
   "metadata": {},
   "outputs": [
    {
     "data": {
      "text/plain": [
       "{'P1': 0.33, 'P2': 0.34, 'P3': 0.33, 'P4': 0.0, 'P5': 0.0, 'P6': 0.0}"
      ]
     },
     "execution_count": 23,
     "metadata": {},
     "output_type": "execute_result"
    }
   ],
   "source": [
    "random_surf(W2, 100)"
   ]
  },
  {
   "cell_type": "code",
   "execution_count": 24,
   "metadata": {},
   "outputs": [
    {
     "data": {
      "text/plain": [
       "{'P1': 0.0, 'P2': 0.0, 'P3': 0.0, 'P4': 0.334, 'P5': 0.333, 'P6': 0.333}"
      ]
     },
     "execution_count": 24,
     "metadata": {},
     "output_type": "execute_result"
    }
   ],
   "source": [
    "random_surf(W2, 1000)"
   ]
  },
  {
   "cell_type": "code",
   "execution_count": 27,
   "metadata": {},
   "outputs": [
    {
     "data": {
      "text/plain": [
       "{'P1': 0.3333, 'P2': 0.3334, 'P3': 0.3333, 'P4': 0.0, 'P5': 0.0, 'P6': 0.0}"
      ]
     },
     "execution_count": 27,
     "metadata": {},
     "output_type": "execute_result"
    }
   ],
   "source": [
    "random_surf(W2, 10000)"
   ]
  },
  {
   "cell_type": "markdown",
   "metadata": {},
   "source": [
    "Funktionen giver en nogenlunde pålidelig måling af PageRank. I W2 ser vi at man kun kan besøge enten P1, P2 og P3 eller P4, P5 og P6 afhængigt af hvor man starter."
   ]
  },
  {
   "cell_type": "code",
   "execution_count": 34,
   "metadata": {},
   "outputs": [
    {
     "name": "stdout",
     "output_type": "stream",
     "text": [
      "{'P1': 0.403, 'P2': 0.194, 'P3': 0.403, 'P4': 0.0, 'P5': 0.0}\n",
      "{'P1': 0.39760239760239763, 'P2': 0.2037962037962038, 'P3': 0.3986013986013986, 'P4': 0.0, 'P5': 0.0}\n",
      "{'P1': 0.39820359281437123, 'P2': 0.2025948103792415, 'P3': 0.3992015968063872, 'P4': 0.0, 'P5': 0.0}\n",
      "{'P1': 0.39980059820538383, 'P2': 0.20139581256231306, 'P3': 0.3988035892323031, 'P4': 0.0, 'P5': 0.0}\n",
      "{'P1': 0.4043824701195219, 'P2': 0.19123505976095617, 'P3': 0.4043824701195219, 'P4': 0.0, 'P5': 0.0}\n",
      "{'P1': 0.40497512437810945, 'P2': 0.191044776119403, 'P3': 0.4039800995024876, 'P4': 0.0, 'P5': 0.0}\n",
      "{'P1': 0.4095427435387674, 'P2': 0.18091451292246521, 'P3': 0.4095427435387674, 'P4': 0.0, 'P5': 0.0}\n",
      "{'P1': 0.3952333664349553, 'P2': 0.20854021847070506, 'P3': 0.39622641509433965, 'P4': 0.0, 'P5': 0.0}\n",
      "{'P1': 0.3958333333333333, 'P2': 0.20833333333333334, 'P3': 0.3958333333333333, 'P4': 0.0, 'P5': 0.0}\n",
      "{'P1': 0.39643211100099107, 'P2': 0.2051536174430129, 'P3': 0.39643211100099107, 'P4': 0.0, 'P5': 0.0019821605550049554}\n"
     ]
    }
   ],
   "source": [
    "for n in range(1000, 1010, 1):\n",
    "    print(random_surf(W1, n))"
   ]
  },
  {
   "cell_type": "code",
   "execution_count": 35,
   "metadata": {},
   "outputs": [
    {
     "name": "stdout",
     "output_type": "stream",
     "text": [
      "{'P1': 0.0, 'P2': 0.0, 'P3': 0.0, 'P4': 0.333, 'P5': 0.333, 'P6': 0.334}\n",
      "{'P1': 0.0, 'P2': 0.0, 'P3': 0.0, 'P4': 0.3336663336663337, 'P5': 0.3336663336663337, 'P6': 0.33266733266733267}\n",
      "{'P1': 0.0, 'P2': 0.0, 'P3': 0.0, 'P4': 0.3333333333333333, 'P5': 0.3333333333333333, 'P6': 0.3333333333333333}\n",
      "{'P1': 0.0, 'P2': 0.0, 'P3': 0.0, 'P4': 0.33300099700897307, 'P5': 0.33300099700897307, 'P6': 0.3339980059820538}\n",
      "{'P1': 0.0, 'P2': 0.0, 'P3': 0.0, 'P4': 0.3336653386454183, 'P5': 0.3336653386454183, 'P6': 0.33266932270916333}\n",
      "{'P1': 0.0, 'P2': 0.0, 'P3': 0.0, 'P4': 0.3333333333333333, 'P5': 0.3333333333333333, 'P6': 0.3333333333333333}\n",
      "{'P1': 0.33399602385685884, 'P2': 0.33300198807157055, 'P3': 0.33300198807157055, 'P4': 0.0, 'P5': 0.0, 'P6': 0.0}\n",
      "{'P1': 0.0, 'P2': 0.0, 'P3': 0.0, 'P4': 0.3336643495531281, 'P5': 0.3336643495531281, 'P6': 0.3326713008937438}\n",
      "{'P1': 0.3333333333333333, 'P2': 0.3333333333333333, 'P3': 0.3333333333333333, 'P4': 0.0, 'P5': 0.0, 'P6': 0.0}\n",
      "{'P1': 0.0, 'P2': 0.0, 'P3': 0.0, 'P4': 0.3330029732408325, 'P5': 0.3330029732408325, 'P6': 0.333994053518335}\n"
     ]
    }
   ],
   "source": [
    "for n in range(1000, 1010, 1):\n",
    "    print(random_surf(W2, n))"
   ]
  },
  {
   "cell_type": "markdown",
   "metadata": {},
   "source": [
    "# Opgave 12"
   ]
  },
  {
   "cell_type": "code",
   "execution_count": 44,
   "metadata": {},
   "outputs": [],
   "source": [
    "chosenp = None\n",
    "def surf_step_damp(web, p, d):\n",
    "    \n",
    "    # Input: Et netværk som dictionary og en start side\n",
    "    # Output: Sandsynlighedsfordeling som dictionary for næste hjemmeside\n",
    "    \n",
    "    distribution=dict()\n",
    "    counts = {key: 0 for key in web}\n",
    "    \n",
    "    distribution = dict(counts)\n",
    "\n",
    "    if not p:  \n",
    "        p = rand.choice(list(web.keys()))\n",
    "    elif not web[p]: \n",
    "        p = rand.choice(list(web.keys()))\n",
    "    else:\n",
    "        k = rand.randint(1, 100)\n",
    "        if k > (d*100):\n",
    "            p = rand.choice(list(web.keys()))\n",
    "        else:\n",
    "            p = rand.choice(list(web[p]))\n",
    "    counter(p, counts)\n",
    "\n",
    "    global chosenp\n",
    "    chosenp = p\n",
    "\n",
    "    total = sum(counts.values())\n",
    "    if total > 0:\n",
    "        for i in counts:\n",
    "            distribution[i] = counts[i] / total\n",
    "\n",
    "    return distribution\n"
   ]
  },
  {
   "cell_type": "code",
   "execution_count": 51,
   "metadata": {},
   "outputs": [],
   "source": [
    "import random\n",
    "def random_surf_damp(web, n, d):\n",
    "    \n",
    "    # Input: Et netværk som dictionary og en start side\n",
    "    # Output: Sandsynlighedsfordeling som dictionary for næste hjemmeside\n",
    "    \n",
    "    ranking = {key: 0 for key in web}\n",
    "\n",
    "    p = random.choice(list(web.keys()))\n",
    "\n",
    "    for _ in range(n):\n",
    "        temp = surf_step_damp(web, p, d) \n",
    "        \n",
    "        for page in ranking:\n",
    "            ranking[page] += temp.get(page, 0)\n",
    "\n",
    "        p =  chosenp\n",
    "\n",
    "    for page in ranking:\n",
    "        ranking[page] /= n\n",
    "\n",
    "    return ranking\n",
    "\n",
    "\n"
   ]
  },
  {
   "cell_type": "markdown",
   "metadata": {},
   "source": [
    "# Opgave 13"
   ]
  },
  {
   "cell_type": "code",
   "execution_count": 52,
   "metadata": {},
   "outputs": [
    {
     "name": "stdout",
     "output_type": "stream",
     "text": [
      "{'P1': 0.354, 'P2': 0.171, 'P3': 0.358, 'P4': 0.047, 'P5': 0.07}\n",
      "{'P1': 0.34565434565434566, 'P2': 0.17382617382617382, 'P3': 0.34765234765234765, 'P4': 0.04495504495504495, 'P5': 0.08791208791208792}\n",
      "{'P1': 0.3323353293413174, 'P2': 0.1906187624750499, 'P3': 0.34331337325349304, 'P4': 0.043912175648702596, 'P5': 0.08982035928143713}\n",
      "{'P1': 0.3459621136590229, 'P2': 0.19042871385842472, 'P3': 0.35194416749750745, 'P4': 0.03788634097706879, 'P5': 0.07377866400797607}\n",
      "{'P1': 0.34462151394422313, 'P2': 0.1693227091633466, 'P3': 0.3545816733067729, 'P4': 0.0398406374501992, 'P5': 0.09163346613545817}\n",
      "{'P1': 0.32935323383084575, 'P2': 0.2, 'P3': 0.33233830845771145, 'P4': 0.046766169154228855, 'P5': 0.09154228855721393}\n",
      "{'P1': 0.3518886679920477, 'P2': 0.18091451292246521, 'P3': 0.3548707753479125, 'P4': 0.04671968190854871, 'P5': 0.06560636182902585}\n",
      "{'P1': 0.3346573982125124, 'P2': 0.1916583912611718, 'P3': 0.3435948361469712, 'P4': 0.047666335650446874, 'P5': 0.08242303872889771}\n",
      "{'P1': 0.32837301587301587, 'P2': 0.17261904761904762, 'P3': 0.34325396825396826, 'P4': 0.0625, 'P5': 0.09325396825396826}\n",
      "{'P1': 0.33597621407333994, 'P2': 0.19028741328047571, 'P3': 0.3419226957383548, 'P4': 0.04757185332011893, 'P5': 0.08424182358771061}\n"
     ]
    }
   ],
   "source": [
    "for n in range(1000, 1010, 1):\n",
    "    print(random_surf_damp(W1, n, 0.85))"
   ]
  },
  {
   "cell_type": "code",
   "execution_count": 53,
   "metadata": {},
   "outputs": [
    {
     "name": "stdout",
     "output_type": "stream",
     "text": [
      "{'P1': 0.18, 'P2': 0.171, 'P3': 0.172, 'P4': 0.159, 'P5': 0.161, 'P6': 0.157}\n",
      "{'P1': 0.17282717282717283, 'P2': 0.18581418581418582, 'P3': 0.17282717282717283, 'P4': 0.15984015984015984, 'P5': 0.15084915084915085, 'P6': 0.15784215784215785}\n",
      "{'P1': 0.17964071856287425, 'P2': 0.16966067864271456, 'P3': 0.17664670658682635, 'P4': 0.15568862275449102, 'P5': 0.1596806387225549, 'P6': 0.15868263473053892}\n",
      "{'P1': 0.17547357926221335, 'P2': 0.17547357926221335, 'P3': 0.17846460618145563, 'P4': 0.1575274177467597, 'P5': 0.1535393818544367, 'P6': 0.15952143569292124}\n",
      "{'P1': 0.16733067729083664, 'P2': 0.15139442231075698, 'P3': 0.15637450199203187, 'P4': 0.17430278884462153, 'P5': 0.17231075697211157, 'P6': 0.17828685258964144}\n",
      "{'P1': 0.18606965174129353, 'P2': 0.18606965174129353, 'P3': 0.18606965174129353, 'P4': 0.15223880597014924, 'P5': 0.14328358208955225, 'P6': 0.14626865671641792}\n",
      "{'P1': 0.14910536779324055, 'P2': 0.14214711729622267, 'P3': 0.1441351888667992, 'P4': 0.1908548707753479, 'P5': 0.1848906560636183, 'P6': 0.18886679920477137}\n",
      "{'P1': 0.1211519364448858, 'P2': 0.12015888778550149, 'P3': 0.11717974180734857, 'P4': 0.21549155908639522, 'P5': 0.20953326713008938, 'P6': 0.21648460774577954}\n",
      "{'P1': 0.19146825396825398, 'P2': 0.1875, 'P3': 0.1865079365079365, 'P4': 0.14285714285714285, 'P5': 0.14285714285714285, 'P6': 0.1488095238095238}\n",
      "{'P1': 0.15163528245787908, 'P2': 0.14767096134786917, 'P3': 0.1506442021803766, 'P4': 0.18037661050545095, 'P5': 0.18037661050545095, 'P6': 0.18929633300297324}\n"
     ]
    }
   ],
   "source": [
    "for n in range(1000, 1010, 1):\n",
    "    print(random_surf_damp(W2, n, 0.85))"
   ]
  },
  {
   "cell_type": "code",
   "execution_count": null,
   "metadata": {},
   "outputs": [],
   "source": []
  }
 ],
 "metadata": {
  "kernelspec": {
   "display_name": "base",
   "language": "python",
   "name": "python3"
  },
  "language_info": {
   "codemirror_mode": {
    "name": "ipython",
    "version": 3
   },
   "file_extension": ".py",
   "mimetype": "text/x-python",
   "name": "python",
   "nbconvert_exporter": "python",
   "pygments_lexer": "ipython3",
   "version": "3.11.10"
  }
 },
 "nbformat": 4,
 "nbformat_minor": 2
}
