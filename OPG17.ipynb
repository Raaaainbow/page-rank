{
 "cells": [
  {
   "cell_type": "markdown",
   "id": "3aeded68",
   "metadata": {},
   "source": [
    "# Opgave 17"
   ]
  },
  {
   "cell_type": "code",
   "execution_count": 1,
   "id": "4c1086ce",
   "metadata": {},
   "outputs": [],
   "source": [
    "W1 = {\n",
    "    'P1': {'P2', 'P3'},\n",
    "    'P2': {'P3'},\n",
    "    'P3': {'P1'},\n",
    "    'P4': {'P5'},\n",
    "    'P5': {}\n",
    "}\n",
    "W2 = {\n",
    "    'P1': {'P2'},\n",
    "    'P2': {'P3'},\n",
    "    'P3': {'P1'},\n",
    "    'P4': {'P5'},\n",
    "    'P5': {'P6'},\n",
    "    'P6': {'P4'}\n",
    "}"
   ]
  },
  {
   "cell_type": "code",
   "execution_count": 48,
   "id": "92ff8a13",
   "metadata": {},
   "outputs": [
    {
     "name": "stdout",
     "output_type": "stream",
     "text": [
      "10\n"
     ]
    },
    {
     "ename": "IndexError",
     "evalue": "list index out of range",
     "output_type": "error",
     "traceback": [
      "\u001b[1;31m---------------------------------------------------------------------------\u001b[0m",
      "\u001b[1;31mIndexError\u001b[0m                                Traceback (most recent call last)",
      "Cell \u001b[1;32mIn[48], line 36\u001b[0m\n\u001b[0;32m     34\u001b[0m \u001b[38;5;66;03m#print(tempWeb)\u001b[39;00m\n\u001b[0;32m     35\u001b[0m \u001b[38;5;28;01mfor\u001b[39;00m k \u001b[38;5;129;01min\u001b[39;00m \u001b[38;5;28mrange\u001b[39m(\u001b[38;5;28mlen\u001b[39m(tempWeb)):\n\u001b[1;32m---> 36\u001b[0m     \u001b[38;5;28;01mif\u001b[39;00m \u001b[43mweb\u001b[49m\u001b[43m[\u001b[49m\u001b[43mj\u001b[49m\u001b[43m]\u001b[49m\u001b[43m[\u001b[49m\u001b[43mi\u001b[49m\u001b[43m]\u001b[49m \u001b[38;5;241m==\u001b[39m tempWeb[k]:\n\u001b[0;32m     37\u001b[0m         \u001b[38;5;66;03m#print(A[i][j])\u001b[39;00m\n\u001b[0;32m     38\u001b[0m         \u001b[38;5;66;03m#A[i][j] = tempWeb[k]\u001b[39;00m\n\u001b[0;32m     39\u001b[0m         \u001b[38;5;28;01mpass\u001b[39;00m\n",
      "\u001b[1;31mIndexError\u001b[0m: list index out of range"
     ]
    }
   ],
   "source": [
    "import numpy as np\n",
    "\n",
    "def checkArrayValue(array,value):\n",
    "    for i in range(0,len(array)):\n",
    "        if array[i] == value:\n",
    "            return True\n",
    "        \n",
    "    return False\n",
    "\n",
    "def make_web(n,k,kmin=0):\n",
    "\n",
    "    # Input: n og k er ikke-negative heltal\n",
    "    # Output: web er en dictionary med n nøgler.\n",
    "    # Værdien af hver nøgle er en liste, der er en delmængde af nøglerne.\n",
    "    \n",
    "    assert(k < n), \"k skal være mindre end n (da man ikke kan linke til sig selv)\"\n",
    "    assert(kmin <= k), \"kmin skal være mindre end eller lig med k\"\n",
    "    keys = list(range(n)) # definerer n nøgler fra 0 til n-1 \n",
    "    web = dict()\n",
    "    \n",
    "    for j in keys:\n",
    "        numlinks = np.random.randint(kmin, k + 1) \n",
    "        links = list(np.random.choice([x for x in keys if x != j], size=numlinks, replace=False))\n",
    "        web[j] = links \n",
    "\n",
    "    return web\n",
    "web = make_web(10,9,5)\n",
    "print(len(web)) \n",
    "A = []\n",
    "for i in range(len(web)):\n",
    "    A = [1/len(web) for _ in range(len(web))]\n",
    "    for j in range(len(web)):\n",
    "        tempWeb = sorted(web[i])\n",
    "        #print(tempWeb)\n",
    "        for k in range(len(tempWeb)):\n",
    "            if web[j][i] == tempWeb[k]:\n",
    "                #print(A[i][j])\n",
    "                #A[i][j] = tempWeb[k]\n",
    "                pass\n"
   ]
  },
  {
   "cell_type": "code",
   "execution_count": null,
   "id": "741cc4b7",
   "metadata": {},
   "outputs": [],
   "source": [
    "\n",
    "def modified_link_matrix(web, pagelist, d=0.85):\n",
    "\n",
    "    # Input: web (dictionary), pagelist (liste over nøgler), d (dæmpningsfaktor)\n",
    "    # Output: d*A^T + (1-d)*E/N\n",
    "    \n",
    "    # A: NxN numpy array, hvor række j har ikke-nul elementer i søjler, som side j linker til.\n",
    "    # Hvis side j ikke linker til nogen, får alle elementer i række j værdien 1/N.\n",
    "    # E: np.ones([N,N])\n",
    "    \n",
    "    # INDSÆT KODE HER\n",
    "    \n",
    "    N = # antal sider\n",
    "    A = \n",
    "    return d*A\n",
    "    pass"
   ]
  }
 ],
 "metadata": {
  "kernelspec": {
   "display_name": "Python 3",
   "language": "python",
   "name": "python3"
  },
  "language_info": {
   "codemirror_mode": {
    "name": "ipython",
    "version": 3
   },
   "file_extension": ".py",
   "mimetype": "text/x-python",
   "name": "python",
   "nbconvert_exporter": "python",
   "pygments_lexer": "ipython3",
   "version": "3.12.6"
  }
 },
 "nbformat": 4,
 "nbformat_minor": 5
}
