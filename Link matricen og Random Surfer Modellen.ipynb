{
 "cells": [
  {
   "cell_type": "code",
   "execution_count": 168,
   "metadata": {},
   "outputs": [],
   "source": [
    "import cmath\n",
    "import matplotlib\n",
    "import sympy as sp\n",
    "import random as rand"
   ]
  },
  {
   "cell_type": "markdown",
   "metadata": {},
   "source": [
    "## Opgave 7"
   ]
  },
  {
   "cell_type": "code",
   "execution_count": 169,
   "metadata": {},
   "outputs": [],
   "source": [
    "W1 = {\n",
    "    'P1': {'P2', 'P3'},\n",
    "    'P2': {'P3'},\n",
    "    'P3': {'P1'},\n",
    "    'P4': {'P5'},\n",
    "    'P5': {}\n",
    "}"
   ]
  },
  {
   "cell_type": "code",
   "execution_count": 170,
   "metadata": {},
   "outputs": [
    {
     "data": {
      "text/latex": [
       "$\\displaystyle \\left[\\begin{matrix}0 & 0 & 1 & 0 & 0\\\\1 & 0 & 0 & 0 & 0\\\\1 & 1 & 0 & 0 & 0\\\\0 & 0 & 0 & 0 & 0\\\\0 & 0 & 0 & 1 & 0\\end{matrix}\\right]$"
      ],
      "text/plain": [
       "Matrix([\n",
       "[0, 0, 1, 0, 0],\n",
       "[1, 0, 0, 0, 0],\n",
       "[1, 1, 0, 0, 0],\n",
       "[0, 0, 0, 0, 0],\n",
       "[0, 0, 0, 1, 0]])"
      ]
     },
     "execution_count": 170,
     "metadata": {},
     "output_type": "execute_result"
    }
   ],
   "source": [
    "adjMatrixW1 = sp.Matrix([[0,0,1,0,0],\n",
    "                        [1,0,0,0,0],\n",
    "                        [1,1,0,0,0],\n",
    "                        [0,0,0,0,0],\n",
    "                        [0,0,0,1,0]])\n",
    "adjMatrixW1"
   ]
  },
  {
   "cell_type": "markdown",
   "metadata": {},
   "source": [
    "Vi ser at P5 er en sink, da det er en 0-vektor og ikke linker til andre hjemmesider."
   ]
  },
  {
   "cell_type": "markdown",
   "metadata": {},
   "source": [
    "# Opgave 8"
   ]
  },
  {
   "cell_type": "code",
   "execution_count": 171,
   "metadata": {},
   "outputs": [
    {
     "data": {
      "text/latex": [
       "$\\displaystyle \\left[\\begin{matrix}0 & 0 & 1 & 0 & 0.2\\\\0.5 & 0 & 0 & 0 & 0.2\\\\0.5 & 1 & 0 & 0 & 0.2\\\\0 & 0 & 0 & 0 & 0.2\\\\0 & 0 & 0 & 1 & 0.2\\end{matrix}\\right]$"
      ],
      "text/plain": [
       "Matrix([\n",
       "[  0, 0, 1, 0, 0.2],\n",
       "[0.5, 0, 0, 0, 0.2],\n",
       "[0.5, 1, 0, 0, 0.2],\n",
       "[  0, 0, 0, 0, 0.2],\n",
       "[  0, 0, 0, 1, 0.2]])"
      ]
     },
     "execution_count": 171,
     "metadata": {},
     "output_type": "execute_result"
    }
   ],
   "source": [
    "L_ij = sp.Matrix([[0,0,1,0,1/5],[1/2,0,0,0,1/5],[1/2,1,0,0,1/5],[0,0,0,0,1/5],[0,0,0,1,1/5]])\n",
    "L_ij"
   ]
  },
  {
   "cell_type": "markdown",
   "metadata": {},
   "source": [
    "Hvis der er link imellem P_j og P_i er sandsynligheden 1 over antallet af edges i P_j. Hvis P_j er en sink, så er sandsynligheden 1 over antallet af alle hjemmesider."
   ]
  },
  {
   "cell_type": "markdown",
   "metadata": {},
   "source": [
    "Alle søjlerne er sandsynlighedsvektorer. Deres elementer er ikke-negative og summerer til 1."
   ]
  },
  {
   "cell_type": "markdown",
   "metadata": {},
   "source": [
    "Det er nærmest det samme som matricen, fordi mange af hjemmesiderne kun linker til en anden hjemmeside. De fleste nuller bliver ved med at være 0, men for P5, som er en sink bliver sandsynligheden for at komme ind på en vilkårlig side 1/5. "
   ]
  },
  {
   "cell_type": "markdown",
   "metadata": {},
   "source": [
    "# Opgave 9"
   ]
  },
  {
   "cell_type": "code",
   "execution_count": 172,
   "metadata": {},
   "outputs": [],
   "source": [
    "def counter(p, counts):\n",
    "    if p in counts:\n",
    "        counts[p] += 1\n"
   ]
  },
  {
   "cell_type": "code",
   "execution_count": 224,
   "metadata": {},
   "outputs": [],
   "source": [
    "chosenp = None\n",
    "def surf_step(web, p):\n",
    "    \n",
    "    # Input: Et netværk som dictionary og en start side\n",
    "    # Output: Sandsynlighedsfordeling som dictionary for næste hjemmeside\n",
    "    \n",
    "    distribution=dict()\n",
    "    counts = {'P1': 0, 'P2': 0, 'P3': 0, 'P4': 0, 'P5': 0}\n",
    "    distribution = {'P1': 0, 'P2': 0, 'P3': 0, 'P4': 0, 'P5': 0}\n",
    "\n",
    "    if not p:  \n",
    "        p = rand.choice(list(web.keys()))\n",
    "    elif not web[p]: \n",
    "        p = rand.choice(list(web.keys()))\n",
    "    else:\n",
    "        p = rand.choice(list(web[p]))\n",
    "    counter(p, counts)\n",
    "\n",
    "    global chosenp\n",
    "    chosenp = p\n",
    "\n",
    "    total = sum(counts.values())\n",
    "    if total > 0:\n",
    "        for i in counts:\n",
    "            distribution[i] = counts[i] / total\n",
    "\n",
    "    return distribution\n"
   ]
  },
  {
   "cell_type": "code",
   "execution_count": 226,
   "metadata": {},
   "outputs": [
    {
     "data": {
      "text/plain": [
       "{'P1': 0.0, 'P2': 1.0, 'P3': 0.0, 'P4': 0.0, 'P5': 0.0}"
      ]
     },
     "execution_count": 226,
     "metadata": {},
     "output_type": "execute_result"
    }
   ],
   "source": [
    "surf_step(W1, 'P1')"
   ]
  },
  {
   "cell_type": "markdown",
   "metadata": {},
   "source": [
    "# Opgave 10"
   ]
  },
  {
   "cell_type": "code",
   "execution_count": 227,
   "metadata": {},
   "outputs": [],
   "source": [
    "import random\n",
    "def random_surf(web, n):\n",
    "    \n",
    "    # Input: Et netværk som dictionary og en start side\n",
    "    # Output: Sandsynlighedsfordeling som dictionary for næste hjemmeside\n",
    "\n",
    "    ranking = {'P1': 0, 'P2': 0, 'P3': 0, 'P4': 0, 'P5': 0}\n",
    "\n",
    "    p = random.choice(list(web.keys()))\n",
    "\n",
    "    for _ in range(n):\n",
    "        temp = surf_step(web, p) \n",
    "        \n",
    "        for page in ranking:\n",
    "            ranking[page] += temp.get(page, 0)\n",
    "\n",
    "        p =  chosenp\n",
    "\n",
    "    for page in ranking:\n",
    "        ranking[page] /= n\n",
    "\n",
    "    return ranking\n",
    "\n",
    "\n"
   ]
  },
  {
   "cell_type": "code",
   "execution_count": 231,
   "metadata": {},
   "outputs": [
    {
     "data": {
      "text/plain": [
       "{'P1': 0.4, 'P2': 0.18, 'P3': 0.39, 'P4': 0.01, 'P5': 0.02}"
      ]
     },
     "execution_count": 231,
     "metadata": {},
     "output_type": "execute_result"
    }
   ],
   "source": [
    "random_surf(W1, 100)"
   ]
  },
  {
   "cell_type": "code",
   "execution_count": 234,
   "metadata": {},
   "outputs": [
    {
     "data": {
      "text/plain": [
       "{'P1': 0.396, 'P2': 0.207, 'P3': 0.396, 'P4': 0.0, 'P5': 0.001}"
      ]
     },
     "execution_count": 234,
     "metadata": {},
     "output_type": "execute_result"
    }
   ],
   "source": [
    "random_surf(W1, 1000)"
   ]
  },
  {
   "cell_type": "code",
   "execution_count": 236,
   "metadata": {},
   "outputs": [
    {
     "data": {
      "text/plain": [
       "{'P1': 0.4013, 'P2': 0.1974, 'P3': 0.4013, 'P4': 0.0, 'P5': 0.0}"
      ]
     },
     "execution_count": 236,
     "metadata": {},
     "output_type": "execute_result"
    }
   ],
   "source": [
    "random_surf(W1, 10000)"
   ]
  },
  {
   "cell_type": "code",
   "execution_count": null,
   "metadata": {},
   "outputs": [],
   "source": []
  }
 ],
 "metadata": {
  "kernelspec": {
   "display_name": "base",
   "language": "python",
   "name": "python3"
  },
  "language_info": {
   "codemirror_mode": {
    "name": "ipython",
    "version": 3
   },
   "file_extension": ".py",
   "mimetype": "text/x-python",
   "name": "python",
   "nbconvert_exporter": "python",
   "pygments_lexer": "ipython3",
   "version": "3.11.10"
  }
 },
 "nbformat": 4,
 "nbformat_minor": 2
}
