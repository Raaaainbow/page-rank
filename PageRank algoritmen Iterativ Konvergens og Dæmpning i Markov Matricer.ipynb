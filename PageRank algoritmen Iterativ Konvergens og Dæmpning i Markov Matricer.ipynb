{
 "cells": [
  {
   "cell_type": "code",
   "execution_count": 10,
   "metadata": {},
   "outputs": [],
   "source": [
    "import cmath\n",
    "import matplotlib\n",
    "import sympy as sp\n",
    "from sympy import *\n",
    "init_printing()"
   ]
  },
  {
   "cell_type": "markdown",
   "metadata": {},
   "source": [
    "## Opgave 26"
   ]
  },
  {
   "cell_type": "markdown",
   "metadata": {},
   "source": [
    "Beregn produktet af følgende Markov matricer. Verificer at den resulterende matrix ligeledes er en Markov matrix?\n",
    "$$A = Matrix([[0.2,0.5,0.3],[0.4,0.4,0.2],[0.1,0.7,0.2]])$$\n",
    "$$B = Matrix([[0.5,0.3,0.2],[0.2,0.5,0.3],[0.3,0.2,0.5]])$$"
   ]
  },
  {
   "cell_type": "code",
   "execution_count": 11,
   "metadata": {},
   "outputs": [
    {
     "data": {
      "text/latex": [
       "$\\displaystyle \\left( \\left[\\begin{matrix}0.2 & 0.5 & 0.3\\\\0.4 & 0.4 & 0.2\\\\0.1 & 0.7 & 0.2\\end{matrix}\\right], \\  \\left[\\begin{matrix}0.5 & 0.3 & 0.2\\\\0.2 & 0.5 & 0.3\\\\0.3 & 0.2 & 0.5\\end{matrix}\\right]\\right)$"
      ],
      "text/plain": [
       "⎛⎡0.2  0.5  0.3⎤  ⎡0.5  0.3  0.2⎤⎞\n",
       "⎜⎢             ⎥  ⎢             ⎥⎟\n",
       "⎜⎢0.4  0.4  0.2⎥, ⎢0.2  0.5  0.3⎥⎟\n",
       "⎜⎢             ⎥  ⎢             ⎥⎟\n",
       "⎝⎣0.1  0.7  0.2⎦  ⎣0.3  0.2  0.5⎦⎠"
      ]
     },
     "execution_count": 11,
     "metadata": {},
     "output_type": "execute_result"
    }
   ],
   "source": [
    "A = Matrix([[0.2,0.5,0.3],[0.4,0.4,0.2],[0.1,0.7,0.2]])\n",
    "B = Matrix([[0.5,0.3,0.2],[0.2,0.5,0.3],[0.3,0.2,0.5]])\n",
    "A, B"
   ]
  },
  {
   "cell_type": "code",
   "execution_count": 12,
   "metadata": {},
   "outputs": [
    {
     "data": {
      "text/latex": [
       "$\\displaystyle \\left[\\begin{matrix}0.29 & 0.37 & 0.34\\\\0.34 & 0.36 & 0.3\\\\0.25 & 0.42 & 0.33\\end{matrix}\\right]$"
      ],
      "text/plain": [
       "⎡0.29  0.37  0.34⎤\n",
       "⎢                ⎥\n",
       "⎢0.34  0.36  0.3 ⎥\n",
       "⎢                ⎥\n",
       "⎣0.25  0.42  0.33⎦"
      ]
     },
     "execution_count": 12,
     "metadata": {},
     "output_type": "execute_result"
    }
   ],
   "source": [
    "A*B"
   ]
  },
  {
   "cell_type": "code",
   "execution_count": 14,
   "metadata": {},
   "outputs": [
    {
     "data": {
      "image/png": "[encoded data removed]",
      "text/latex": [
       "$\\displaystyle 1.0$"
      ],
      "text/plain": [
       "1.0"
      ]
     },
     "execution_count": 14,
     "metadata": {},
     "output_type": "execute_result"
    }
   ],
   "source": [
    "0.29+0.37+0.34"
   ]
  },
  {
   "cell_type": "code",
   "execution_count": 15,
   "metadata": {},
   "outputs": [
    {
     "data": {
      "image/png": "[encoded data removed]",
      "text/latex": [
       "$\\displaystyle 1.0$"
      ],
      "text/plain": [
       "1.0"
      ]
     },
     "execution_count": 15,
     "metadata": {},
     "output_type": "execute_result"
    }
   ],
   "source": [
    "0.34+0.36+0.3"
   ]
  },
  {
   "cell_type": "code",
   "execution_count": 16,
   "metadata": {},
   "outputs": [
    {
     "data": {
      "image/png": "[encoded data removed]",
      "text/latex": [
       "$\\displaystyle 1.0$"
      ],
      "text/plain": [
       "1.0"
      ]
     },
     "execution_count": 16,
     "metadata": {},
     "output_type": "execute_result"
    }
   ],
   "source": [
    "0.25+0.42+0.33"
   ]
  },
  {
   "cell_type": "markdown",
   "metadata": {},
   "source": [
    "## Opgave 27"
   ]
  },
  {
   "cell_type": "markdown",
   "metadata": {},
   "source": [
    "Vis at produktet af to Markov matricer er en Markov matrix."
   ]
  },
  {
   "cell_type": "markdown",
   "metadata": {},
   "source": [
    "Grunden til at produktet af to markov matricer altid vil give en markov matrix skyldes blandt andet at alle tal i en markov matrix er positive, hvilket vil sige at produktet også kun vil få positive værdier, og den anden grund er at summen af rækkerne i en markov matrix altid skal give en, for at det er en markov matrix, derfor når man ganger dem sammen, giver summen af to markov matricer en matrix, hvor rækkernes sum bliver 1"
   ]
  },
  {
   "cell_type": "markdown",
   "metadata": {},
   "source": [
    "$$ C_{ij} = ∑A_{ik} * B_{kj} >= 0 $$"
   ]
  },
  {
   "cell_type": "markdown",
   "metadata": {},
   "source": [
    "$$ ∑C_{ij} = ∑∑A_{ik} * B_{kj} $$"
   ]
  },
  {
   "cell_type": "markdown",
   "metadata": {},
   "source": [
    "$$ = ∑A_{ik} * ∑B_{kj} $$"
   ]
  },
  {
   "cell_type": "markdown",
   "metadata": {},
   "source": [
    "$$ ∑B_{kj} = 1 $$"
   ]
  },
  {
   "cell_type": "markdown",
   "metadata": {},
   "source": [
    "$$ ∑C_{ij} = ∑A_{ik}*1 = ∑A_{ik} = 1 $$"
   ]
  },
  {
   "cell_type": "markdown",
   "metadata": {},
   "source": [
    "## Opgave 28"
   ]
  },
  {
   "cell_type": "markdown",
   "metadata": {},
   "source": [
    "Konkludér at hvis A er en Markov matrix, så er $A^k$ også en Markov matrix for alle  k er en mængde af N\n",
    "."
   ]
  },
  {
   "cell_type": "markdown",
   "metadata": {},
   "source": [
    "$A^k$ er A gange A gange A... k gange"
   ]
  },
  {
   "cell_type": "markdown",
   "metadata": {},
   "source": [
    "Som tideligere nævnt vil produktet af to markov matricer ganget sammen blive en markov matrix, det betyder at man ganger uendeligt mange markov matricer sammen, og det vil altid give en markov matrix."
   ]
  },
  {
   "cell_type": "markdown",
   "metadata": {},
   "source": [
    "## Opgave 29"
   ]
  },
  {
   "cell_type": "markdown",
   "metadata": {},
   "source": [
    "Lad A være en nxn Markov matrix. Vis at $rad_A = 1$\n",
    "."
   ]
  },
  {
   "cell_type": "markdown",
   "metadata": {},
   "source": [
    "Informeret i opgaven er:  ingen egenværdier af en markov matrix har absolutværdi større end 1. Hvilket vil sige at den spektrale radius $rad_A$ af en Markov matrix A er lig 1"
   ]
  },
  {
   "cell_type": "markdown",
   "metadata": {},
   "source": [
    "Note: den spektrale radius er den største absolutte værdi af alle egenværdierne til en matrix (taget fra chatGPT)"
   ]
  },
  {
   "cell_type": "markdown",
   "metadata": {},
   "source": [
    "Hint: Antag at A har en egenværdi lambda med den absolutte værdi af lambda større end 1. Lad v være den tilhørende egenvektor. For en Markov matrix er summen af hver række netop 1, altså kan Av = lambda*v ses som n (forskellige) vægtede gennemsnit af v1, v2,...,vn. Hvor stor kan absolutværdien af et vægtet gennemsnit af n elementer maksimalt være?"
   ]
  },
  {
   "cell_type": "markdown",
   "metadata": {},
   "source": [
    "Egenværdiproblemet"
   ]
  },
  {
   "cell_type": "markdown",
   "metadata": {},
   "source": [
    "Vi benytter egenværdiproblemet: "
   ]
  },
  {
   "cell_type": "markdown",
   "metadata": {},
   "source": [
    "A*v = λ * v"
   ]
  },
  {
   "cell_type": "markdown",
   "metadata": {},
   "source": [
    "Vi kalder max v for v_k"
   ]
  },
  {
   "cell_type": "markdown",
   "metadata": {},
   "source": [
    "Herfra kan vi se at max(A*v_k) <= v_k, fordi at når man finder produktet af en matrix og vektor giver det en vektor og vi har defineret max af vektorens værdier til at være v_k. Så kan vi se: (A*v)_k <= v_k. "
   ]
  },
  {
   "cell_type": "markdown",
   "metadata": {},
   "source": [
    "Det kan indsættes i egenværdi problemet nu: "
   ]
  },
  {
   "cell_type": "markdown",
   "metadata": {},
   "source": [
    "| (A * v)_k | = | λ * v_k | = | λ | * | v_k | <= | v_k |"
   ]
  },
  {
   "cell_type": "markdown",
   "metadata": {},
   "source": [
    "Her kan vi se at egenværdiern højest skal være 1 for at venstresiden aldrig bliver højere end v_k. "
   ]
  },
  {
   "cell_type": "markdown",
   "metadata": {},
   "source": []
  }
 ],
 "metadata": {
  "kernelspec": {
   "display_name": "base",
   "language": "python",
   "name": "python3"
  },
  "language_info": {
   "codemirror_mode": {
    "name": "ipython",
    "version": 3
   },
   "file_extension": ".py",
   "mimetype": "text/x-python",
   "name": "python",
   "nbconvert_exporter": "python",
   "pygments_lexer": "ipython3",
   "version": "3.11.10"
  }
 },
 "nbformat": 4,
 "nbformat_minor": 2
}
