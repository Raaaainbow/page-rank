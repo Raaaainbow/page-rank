{
 "cells": [
  {
   "cell_type": "code",
   "execution_count": 23,
   "metadata": {},
   "outputs": [],
   "source": [
    "import cmath\n",
    "import matplotlib\n",
    "import sympy as sp\n",
    "import random as rand\n",
    "from sympy import init_printing\n",
    "init_printing()"
   ]
  },
  {
   "cell_type": "markdown",
   "metadata": {},
   "source": [
    "## Opgave 7"
   ]
  },
  {
   "cell_type": "code",
   "execution_count": 24,
   "metadata": {},
   "outputs": [],
   "source": [
    "W1 = {\n",
    "    'P1': {'P2', 'P3'},\n",
    "    'P2': {'P3'},\n",
    "    'P3': {'P1'},\n",
    "    'P4': {'P5'},\n",
    "    'P5': {}\n",
    "}\n",
    "W2 = {\n",
    "    'P1': {'P2'},\n",
    "    'P2': {'P3'},\n",
    "    'P3': {'P1'},\n",
    "    'P4': {'P5'},\n",
    "    'P5': {'P6'},\n",
    "    'P6': {'P4'}\n",
    "}"
   ]
  },
  {
   "cell_type": "code",
   "execution_count": 25,
   "metadata": {},
   "outputs": [
    {
     "data": {
      "image/png": "[encoded data removed]",
      "text/latex": [
       "$\\displaystyle \\left[\\begin{matrix}0 & 0 & 1 & 0 & 0\\\\1 & 0 & 0 & 0 & 0\\\\1 & 1 & 0 & 0 & 0\\\\0 & 0 & 0 & 0 & 0\\\\0 & 0 & 0 & 1 & 0\\end{matrix}\\right]$"
      ],
      "text/plain": [
       "⎡0  0  1  0  0⎤\n",
       "⎢             ⎥\n",
       "⎢1  0  0  0  0⎥\n",
       "⎢             ⎥\n",
       "⎢1  1  0  0  0⎥\n",
       "⎢             ⎥\n",
       "⎢0  0  0  0  0⎥\n",
       "⎢             ⎥\n",
       "⎣0  0  0  1  0⎦"
      ]
     },
     "execution_count": 25,
     "metadata": {},
     "output_type": "execute_result"
    }
   ],
   "source": [
    "adjMatrixW1 = sp.Matrix([[0,0,1,0,0],\n",
    "                        [1,0,0,0,0],\n",
    "                        [1,1,0,0,0],\n",
    "                        [0,0,0,0,0],\n",
    "                        [0,0,0,1,0]])\n",
    "adjMatrixW1"
   ]
  },
  {
   "cell_type": "markdown",
   "metadata": {},
   "source": [
    "Vi ser at P5 er en sink, da det er en 0-vektor og ikke linker til andre hjemmesider."
   ]
  },
  {
   "cell_type": "markdown",
   "metadata": {},
   "source": [
    "# Opgave 8"
   ]
  },
  {
   "cell_type": "code",
   "execution_count": 26,
   "metadata": {},
   "outputs": [
    {
     "data": {
      "image/png": "[encoded data removed]",
      "text/latex": [
       "$\\displaystyle \\left[\\begin{matrix}0 & 0 & 1 & 0 & 0.2\\\\0.5 & 0 & 0 & 0 & 0.2\\\\0.5 & 1 & 0 & 0 & 0.2\\\\0 & 0 & 0 & 0 & 0.2\\\\0 & 0 & 0 & 1 & 0.2\\end{matrix}\\right]$"
      ],
      "text/plain": [
       "⎡ 0   0  1  0  0.2⎤\n",
       "⎢                 ⎥\n",
       "⎢0.5  0  0  0  0.2⎥\n",
       "⎢                 ⎥\n",
       "⎢0.5  1  0  0  0.2⎥\n",
       "⎢                 ⎥\n",
       "⎢ 0   0  0  0  0.2⎥\n",
       "⎢                 ⎥\n",
       "⎣ 0   0  0  1  0.2⎦"
      ]
     },
     "execution_count": 26,
     "metadata": {},
     "output_type": "execute_result"
    }
   ],
   "source": [
    "L_ij = sp.Matrix([[0,0,1,0,1/5],[1/2,0,0,0,1/5],[1/2,1,0,0,1/5],[0,0,0,0,1/5],[0,0,0,1,1/5]])\n",
    "L_ij"
   ]
  },
  {
   "cell_type": "markdown",
   "metadata": {},
   "source": [
    "Hvis der er link imellem $P_j$ og $P_i$ er sandsynligheden 1 over antallet af edges i $P_j$. Hvis $P_j$ er en sink, så er sandsynligheden 1 over antallet af alle hjemmesider."
   ]
  },
  {
   "cell_type": "markdown",
   "metadata": {},
   "source": [
    "Alle søjlerne er sandsynlighedsvektorer. Deres elementer er ikke-negative og summerer til 1."
   ]
  },
  {
   "cell_type": "markdown",
   "metadata": {},
   "source": [
    "Det er nærmest det samme som matricen, fordi mange af hjemmesiderne kun linker til en anden hjemmeside. De fleste nuller bliver ved med at være 0, men for P5, som er en sink bliver sandsynligheden for at komme ind på en vilkårlig side 1/5. "
   ]
  },
  {
   "cell_type": "markdown",
   "metadata": {},
   "source": [
    "# Opgave 9"
   ]
  },
  {
   "cell_type": "code",
   "execution_count": 27,
   "metadata": {},
   "outputs": [],
   "source": [
    "def counter(p, counts):\n",
    "    if p in counts:\n",
    "        counts[p] += 1\n"
   ]
  },
  {
   "cell_type": "code",
   "execution_count": 28,
   "metadata": {},
   "outputs": [],
   "source": [
    "chosenp = None\n",
    "def surf_step(web, p):\n",
    "    \n",
    "    # Input: Et netværk som dictionary og en start side\n",
    "    # Output: Sandsynlighedsfordeling som dictionary for næste hjemmeside\n",
    "    \n",
    "    distribution=dict()\n",
    "    counts = {key: 0 for key in web}\n",
    "    \n",
    "    distribution = dict(counts)\n",
    "\n",
    "    if not p:  \n",
    "        p = rand.choice(list(web.keys()))\n",
    "    elif not web[p]: \n",
    "        p = rand.choice(list(web.keys()))\n",
    "    else:\n",
    "        p = rand.choice(list(web[p]))\n",
    "    counter(p, counts)\n",
    "\n",
    "    global chosenp\n",
    "    chosenp = p\n",
    "\n",
    "    total = sum(counts.values())\n",
    "    if total > 0:\n",
    "        for i in counts:\n",
    "            distribution[i] = counts[i] / total\n",
    "\n",
    "    return distribution\n"
   ]
  },
  {
   "cell_type": "code",
   "execution_count": 29,
   "metadata": {},
   "outputs": [
    {
     "data": {
      "text/plain": [
       "{'P1': 0.0, 'P2': 1.0, 'P3': 0.0, 'P4': 0.0, 'P5': 0.0}"
      ]
     },
     "execution_count": 29,
     "metadata": {},
     "output_type": "execute_result"
    }
   ],
   "source": [
    "surf_step(W1, 'P1')"
   ]
  },
  {
   "cell_type": "markdown",
   "metadata": {},
   "source": [
    "# Opgave 10"
   ]
  },
  {
   "cell_type": "code",
   "execution_count": 30,
   "metadata": {},
   "outputs": [],
   "source": [
    "import random\n",
    "def random_surf(web, n):\n",
    "    \n",
    "    # Input: Et netværk som dictionary og en start side\n",
    "    # Output: Sandsynlighedsfordeling som dictionary for næste hjemmeside\n",
    "    \n",
    "    ranking = {key: 0 for key in web}\n",
    "\n",
    "    p = random.choice(list(web.keys()))\n",
    "\n",
    "    for _ in range(n):\n",
    "        temp = surf_step(web, p) \n",
    "        \n",
    "        for page in ranking:\n",
    "            ranking[page] += temp.get(page, 0)\n",
    "\n",
    "        p =  chosenp\n",
    "\n",
    "    for page in ranking:\n",
    "        ranking[page] /= n\n",
    "\n",
    "    return ranking\n",
    "\n",
    "\n"
   ]
  },
  {
   "cell_type": "markdown",
   "metadata": {},
   "source": [
    "# Opgave 11"
   ]
  },
  {
   "cell_type": "code",
   "execution_count": 31,
   "metadata": {},
   "outputs": [
    {
     "data": {
      "text/plain": [
       "{'P1': 0.38, 'P2': 0.24, 'P3': 0.38, 'P4': 0.0, 'P5': 0.0}"
      ]
     },
     "execution_count": 31,
     "metadata": {},
     "output_type": "execute_result"
    }
   ],
   "source": [
    "random_surf(W1, 100)"
   ]
  },
  {
   "cell_type": "code",
   "execution_count": 32,
   "metadata": {},
   "outputs": [
    {
     "data": {
      "text/plain": [
       "{'P1': 0.405, 'P2': 0.19, 'P3': 0.405, 'P4': 0.0, 'P5': 0.0}"
      ]
     },
     "execution_count": 32,
     "metadata": {},
     "output_type": "execute_result"
    }
   ],
   "source": [
    "random_surf(W1, 1000)"
   ]
  },
  {
   "cell_type": "code",
   "execution_count": 33,
   "metadata": {},
   "outputs": [
    {
     "data": {
      "text/plain": [
       "{'P1': 0.3992, 'P2': 0.2015, 'P3': 0.3992, 'P4': 0.0, 'P5': 0.0001}"
      ]
     },
     "execution_count": 33,
     "metadata": {},
     "output_type": "execute_result"
    }
   ],
   "source": [
    "random_surf(W1, 10000)"
   ]
  },
  {
   "cell_type": "code",
   "execution_count": 34,
   "metadata": {},
   "outputs": [
    {
     "data": {
      "text/plain": [
       "{'P1': 0.34, 'P2': 0.33, 'P3': 0.33, 'P4': 0.0, 'P5': 0.0, 'P6': 0.0}"
      ]
     },
     "execution_count": 34,
     "metadata": {},
     "output_type": "execute_result"
    }
   ],
   "source": [
    "random_surf(W2, 100)"
   ]
  },
  {
   "cell_type": "code",
   "execution_count": 35,
   "metadata": {},
   "outputs": [
    {
     "data": {
      "text/plain": [
       "{'P1': 0.0, 'P2': 0.0, 'P3': 0.0, 'P4': 0.334, 'P5': 0.333, 'P6': 0.333}"
      ]
     },
     "execution_count": 35,
     "metadata": {},
     "output_type": "execute_result"
    }
   ],
   "source": [
    "random_surf(W2, 1000)"
   ]
  },
  {
   "cell_type": "code",
   "execution_count": 36,
   "metadata": {},
   "outputs": [
    {
     "data": {
      "text/plain": [
       "{'P1': 0.3333, 'P2': 0.3334, 'P3': 0.3333, 'P4': 0.0, 'P5': 0.0, 'P6': 0.0}"
      ]
     },
     "execution_count": 36,
     "metadata": {},
     "output_type": "execute_result"
    }
   ],
   "source": [
    "random_surf(W2, 10000)"
   ]
  },
  {
   "cell_type": "markdown",
   "metadata": {},
   "source": [
    "Funktionen giver en nogenlunde pålidelig måling af PageRank. I W2 ser vi at man kun kan besøge enten P1, P2 og P3 eller P4, P5 og P6 afhængigt af hvor man starter."
   ]
  },
  {
   "cell_type": "code",
   "execution_count": 37,
   "metadata": {},
   "outputs": [
    {
     "name": "stdout",
     "output_type": "stream",
     "text": [
      "{'P1': 0.404, 'P2': 0.191, 'P3': 0.404, 'P4': 0.0, 'P5': 0.001}\n",
      "{'P1': 0.3916083916083916, 'P2': 0.21578421578421578, 'P3': 0.3926073926073926, 'P4': 0.0, 'P5': 0.0}\n",
      "{'P1': 0.406187624750499, 'P2': 0.18762475049900199, 'P3': 0.406187624750499, 'P4': 0.0, 'P5': 0.0}\n",
      "{'P1': 0.4057826520438684, 'P2': 0.18743768693918245, 'P3': 0.4057826520438684, 'P4': 0.0, 'P5': 0.0009970089730807576}\n",
      "{'P1': 0.3904382470119522, 'P2': 0.21912350597609562, 'P3': 0.3904382470119522, 'P4': 0.0, 'P5': 0.0}\n",
      "{'P1': 0.39502487562189054, 'P2': 0.208955223880597, 'P3': 0.39502487562189054, 'P4': 0.0, 'P5': 0.0009950248756218905}\n",
      "{'P1': 0.40159045725646125, 'P2': 0.19582504970178927, 'P3': 0.4025844930417495, 'P4': 0.0, 'P5': 0.0}\n",
      "{'P1': 0.4001986097318769, 'P2': 0.19761668321747766, 'P3': 0.4011916583912612, 'P4': 0.0, 'P5': 0.0009930486593843098}\n",
      "{'P1': 0.3998015873015873, 'P2': 0.2003968253968254, 'P3': 0.3998015873015873, 'P4': 0.0, 'P5': 0.0}\n",
      "{'P1': 0.400396432111001, 'P2': 0.19821605550049554, 'P3': 0.40138751238850345, 'P4': 0.0, 'P5': 0.0}\n"
     ]
    }
   ],
   "source": [
    "for n in range(1000, 1010, 1):\n",
    "    print(random_surf(W1, n))"
   ]
  },
  {
   "cell_type": "code",
   "execution_count": 38,
   "metadata": {},
   "outputs": [
    {
     "name": "stdout",
     "output_type": "stream",
     "text": [
      "{'P1': 0.0, 'P2': 0.0, 'P3': 0.0, 'P4': 0.333, 'P5': 0.334, 'P6': 0.333}\n",
      "{'P1': 0.3336663336663337, 'P2': 0.3336663336663337, 'P3': 0.33266733266733267, 'P4': 0.0, 'P5': 0.0, 'P6': 0.0}\n",
      "{'P1': 0.3333333333333333, 'P2': 0.3333333333333333, 'P3': 0.3333333333333333, 'P4': 0.0, 'P5': 0.0, 'P6': 0.0}\n",
      "{'P1': 0.0, 'P2': 0.0, 'P3': 0.0, 'P4': 0.33300099700897307, 'P5': 0.33300099700897307, 'P6': 0.3339980059820538}\n",
      "{'P1': 0.3336653386454183, 'P2': 0.33266932270916333, 'P3': 0.3336653386454183, 'P4': 0.0, 'P5': 0.0, 'P6': 0.0}\n",
      "{'P1': 0.3333333333333333, 'P2': 0.3333333333333333, 'P3': 0.3333333333333333, 'P4': 0.0, 'P5': 0.0, 'P6': 0.0}\n",
      "{'P1': 0.0, 'P2': 0.0, 'P3': 0.0, 'P4': 0.33300198807157055, 'P5': 0.33300198807157055, 'P6': 0.33399602385685884}\n",
      "{'P1': 0.3326713008937438, 'P2': 0.3336643495531281, 'P3': 0.3336643495531281, 'P4': 0.0, 'P5': 0.0, 'P6': 0.0}\n",
      "{'P1': 0.0, 'P2': 0.0, 'P3': 0.0, 'P4': 0.3333333333333333, 'P5': 0.3333333333333333, 'P6': 0.3333333333333333}\n",
      "{'P1': 0.3330029732408325, 'P2': 0.3330029732408325, 'P3': 0.333994053518335, 'P4': 0.0, 'P5': 0.0, 'P6': 0.0}\n"
     ]
    }
   ],
   "source": [
    "for n in range(1000, 1010, 1):\n",
    "    print(random_surf(W2, n))"
   ]
  },
  {
   "cell_type": "markdown",
   "metadata": {},
   "source": [
    "# Opgave 12"
   ]
  },
  {
   "cell_type": "code",
   "execution_count": 39,
   "metadata": {},
   "outputs": [],
   "source": [
    "chosenp = None\n",
    "def surf_step_damp(web, p, d):\n",
    "    \n",
    "    # Input: Et netværk som dictionary og en start side\n",
    "    # Output: Sandsynlighedsfordeling som dictionary for næste hjemmeside\n",
    "    \n",
    "    distribution=dict()\n",
    "    counts = {key: 0 for key in web}\n",
    "    \n",
    "    distribution = dict(counts)\n",
    "\n",
    "    if not p:  \n",
    "        p = rand.choice(list(web.keys()))\n",
    "    elif not web[p]: \n",
    "        p = rand.choice(list(web.keys()))\n",
    "    else:\n",
    "        k = rand.randint(1, 100)\n",
    "        if k > (d*100):\n",
    "            p = rand.choice(list(web.keys()))\n",
    "        else:\n",
    "            p = rand.choice(list(web[p]))\n",
    "    counter(p, counts)\n",
    "\n",
    "    global chosenp\n",
    "    chosenp = p\n",
    "\n",
    "    total = sum(counts.values())\n",
    "    if total > 0:\n",
    "        for i in counts:\n",
    "            distribution[i] = counts[i] / total\n",
    "\n",
    "    return distribution\n"
   ]
  },
  {
   "cell_type": "code",
   "execution_count": 40,
   "metadata": {},
   "outputs": [],
   "source": [
    "import random\n",
    "def random_surf_damp(web, n, d):\n",
    "    \n",
    "    # Input: Et netværk som dictionary og en start side\n",
    "    # Output: Sandsynlighedsfordeling som dictionary for næste hjemmeside\n",
    "    \n",
    "    ranking = {key: 0 for key in web}\n",
    "\n",
    "    p = random.choice(list(web.keys()))\n",
    "\n",
    "    for _ in range(n):\n",
    "        temp = surf_step_damp(web, p, d) \n",
    "        \n",
    "        for page in ranking:\n",
    "            ranking[page] += temp.get(page, 0)\n",
    "\n",
    "        p =  chosenp\n",
    "\n",
    "    for page in ranking:\n",
    "        ranking[page] /= n\n",
    "\n",
    "    return ranking\n",
    "\n",
    "\n"
   ]
  },
  {
   "cell_type": "markdown",
   "metadata": {},
   "source": [
    "# Opgave 13"
   ]
  },
  {
   "cell_type": "code",
   "execution_count": 41,
   "metadata": {},
   "outputs": [
    {
     "data": {
      "text/plain": [
       "{'P1': 0.32, 'P2': 0.19, 'P3': 0.33, 'P4': 0.04, 'P5': 0.12}"
      ]
     },
     "execution_count": 41,
     "metadata": {},
     "output_type": "execute_result"
    }
   ],
   "source": [
    "random_surf_damp(W1, 100, 0.85)"
   ]
  },
  {
   "cell_type": "code",
   "execution_count": 42,
   "metadata": {},
   "outputs": [
    {
     "data": {
      "text/plain": [
       "{'P1': 0.319, 'P2': 0.192, 'P3': 0.339, 'P4': 0.051, 'P5': 0.099}"
      ]
     },
     "execution_count": 42,
     "metadata": {},
     "output_type": "execute_result"
    }
   ],
   "source": [
    "random_surf_damp(W1, 1000, 0.85)"
   ]
  },
  {
   "cell_type": "code",
   "execution_count": 43,
   "metadata": {},
   "outputs": [
    {
     "data": {
      "text/plain": [
       "{'P1': 0.3436, 'P2': 0.1869, 'P3': 0.3509, 'P4': 0.0403, 'P5': 0.0783}"
      ]
     },
     "execution_count": 43,
     "metadata": {},
     "output_type": "execute_result"
    }
   ],
   "source": [
    "random_surf_damp(W1, 10000, 0.85)"
   ]
  },
  {
   "cell_type": "code",
   "execution_count": 44,
   "metadata": {},
   "outputs": [
    {
     "data": {
      "text/plain": [
       "{'P1': 0.22, 'P2': 0.19, 'P3': 0.21, 'P4': 0.13, 'P5': 0.12, 'P6': 0.13}"
      ]
     },
     "execution_count": 44,
     "metadata": {},
     "output_type": "execute_result"
    }
   ],
   "source": [
    "random_surf_damp(W2, 100, 0.85)"
   ]
  },
  {
   "cell_type": "code",
   "execution_count": 45,
   "metadata": {},
   "outputs": [
    {
     "data": {
      "text/plain": [
       "{'P1': 0.157, 'P2': 0.168, 'P3': 0.164, 'P4': 0.178, 'P5': 0.173, 'P6': 0.16}"
      ]
     },
     "execution_count": 45,
     "metadata": {},
     "output_type": "execute_result"
    }
   ],
   "source": [
    "random_surf_damp(W2, 1000, 0.85)"
   ]
  },
  {
   "cell_type": "code",
   "execution_count": 46,
   "metadata": {},
   "outputs": [
    {
     "data": {
      "text/plain": [
       "{'P1': 0.1713,\n",
       " 'P2': 0.1722,\n",
       " 'P3': 0.1684,\n",
       " 'P4': 0.1627,\n",
       " 'P5': 0.1617,\n",
       " 'P6': 0.1637}"
      ]
     },
     "execution_count": 46,
     "metadata": {},
     "output_type": "execute_result"
    }
   ],
   "source": [
    "random_surf_damp(W2, 10000, 0.85)"
   ]
  },
  {
   "cell_type": "code",
   "execution_count": 47,
   "metadata": {},
   "outputs": [
    {
     "name": "stdout",
     "output_type": "stream",
     "text": [
      "{'P1': 0.34, 'P2': 0.178, 'P3': 0.348, 'P4': 0.051, 'P5': 0.083}\n",
      "{'P1': 0.33466533466533466, 'P2': 0.1998001998001998, 'P3': 0.34765234765234765, 'P4': 0.03796203796203796, 'P5': 0.07992007992007992}\n",
      "{'P1': 0.3522954091816367, 'P2': 0.18463073852295409, 'P3': 0.36726546906187624, 'P4': 0.03493013972055888, 'P5': 0.06087824351297405}\n",
      "{'P1': 0.34097706879361916, 'P2': 0.19740777666999004, 'P3': 0.3439680957128614, 'P4': 0.04187437686939183, 'P5': 0.07577268195413758}\n",
      "{'P1': 0.33167330677290835, 'P2': 0.2051792828685259, 'P3': 0.3286852589641434, 'P4': 0.04880478087649402, 'P5': 0.08565737051792828}\n",
      "{'P1': 0.3472636815920398, 'P2': 0.19203980099502488, 'P3': 0.35522388059701493, 'P4': 0.03681592039800995, 'P5': 0.06865671641791045}\n",
      "{'P1': 0.34393638170974156, 'P2': 0.18190854870775347, 'P3': 0.3518886679920477, 'P4': 0.036779324055666, 'P5': 0.08548707753479125}\n",
      "{'P1': 0.32969215491559084, 'P2': 0.18867924528301888, 'P3': 0.3326713008937438, 'P4': 0.05759682224428997, 'P5': 0.0913604766633565}\n",
      "{'P1': 0.3333333333333333, 'P2': 0.18253968253968253, 'P3': 0.3492063492063492, 'P4': 0.047619047619047616, 'P5': 0.0873015873015873}\n",
      "{'P1': 0.3409316154608523, 'P2': 0.2001982160555005, 'P3': 0.3508424182358771, 'P4': 0.03964321110009911, 'P5': 0.06838453914767097}\n"
     ]
    }
   ],
   "source": [
    "for n in range(1000, 1010, 1):\n",
    "    print(random_surf_damp(W1, n, 0.85))"
   ]
  },
  {
   "cell_type": "code",
   "execution_count": 48,
   "metadata": {},
   "outputs": [
    {
     "name": "stdout",
     "output_type": "stream",
     "text": [
      "{'P1': 0.113, 'P2': 0.117, 'P3': 0.122, 'P4': 0.216, 'P5': 0.214, 'P6': 0.218}\n",
      "{'P1': 0.16683316683316685, 'P2': 0.16183816183816183, 'P3': 0.16083916083916083, 'P4': 0.17182817182817184, 'P5': 0.16683316683316685, 'P6': 0.17182817182817184}\n",
      "{'P1': 0.156686626746507, 'P2': 0.15269461077844312, 'P3': 0.16167664670658682, 'P4': 0.17864271457085829, 'P5': 0.17465069860279442, 'P6': 0.17564870259481039}\n",
      "{'P1': 0.17048853439680958, 'P2': 0.16350947158524426, 'P3': 0.17746759720837488, 'P4': 0.1625124626121635, 'P5': 0.16450648055832504, 'P6': 0.16151545363908276}\n",
      "{'P1': 0.17131474103585656, 'P2': 0.16633466135458166, 'P3': 0.1643426294820717, 'P4': 0.16334661354581673, 'P5': 0.17131474103585656, 'P6': 0.16334661354581673}\n",
      "{'P1': 0.12338308457711443, 'P2': 0.13333333333333333, 'P3': 0.13034825870646766, 'P4': 0.20597014925373133, 'P5': 0.19900497512437812, 'P6': 0.20796019900497512}\n",
      "{'P1': 0.15904572564612326, 'P2': 0.16003976143141152, 'P3': 0.16003976143141152, 'P4': 0.17395626242544732, 'P5': 0.1709741550695825, 'P6': 0.17594433399602386}\n",
      "{'P1': 0.21052631578947367, 'P2': 0.19463753723932473, 'P3': 0.19662363455809334, 'P4': 0.12810327706057598, 'P5': 0.13604766633565044, 'P6': 0.13406156901688182}\n",
      "{'P1': 0.18948412698412698, 'P2': 0.1875, 'P3': 0.18452380952380953, 'P4': 0.14583333333333334, 'P5': 0.14186507936507936, 'P6': 0.15079365079365079}\n",
      "{'P1': 0.18136769078295342, 'P2': 0.1734390485629336, 'P3': 0.1823587710604559, 'P4': 0.15460852329038652, 'P5': 0.15758176412289396, 'P6': 0.1506442021803766}\n"
     ]
    }
   ],
   "source": [
    "for n in range(1000, 1010, 1):\n",
    "    print(random_surf_damp(W2, n, 0.85))"
   ]
  },
  {
   "cell_type": "code",
   "execution_count": null,
   "metadata": {},
   "outputs": [],
   "source": []
  }
 ],
 "metadata": {
  "kernelspec": {
   "display_name": "Python 3",
   "language": "python",
   "name": "python3"
  },
  "language_info": {
   "codemirror_mode": {
    "name": "ipython",
    "version": 3
   },
   "file_extension": ".py",
   "mimetype": "text/x-python",
   "name": "python",
   "nbconvert_exporter": "python",
   "pygments_lexer": "ipython3",
   "version": "3.11.9"
  }
 },
 "nbformat": 4,
 "nbformat_minor": 2
}
