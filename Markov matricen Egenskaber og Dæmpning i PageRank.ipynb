{
 "cells": [
  {
   "cell_type": "code",
   "execution_count": 1,
   "metadata": {},
   "outputs": [],
   "source": [
    "import cmath\n",
    "import matplotlib\n",
    "import sympy as sp\n",
    "from sympy import *\n",
    "init_printing()"
   ]
  },
  {
   "cell_type": "markdown",
   "metadata": {},
   "source": [
    "L = linkmatricen,\n",
    "L^T er link-matricen transpereret,\n",
    "Om L er transpereret eller ikke er, gør ingen forskel"
   ]
  },
  {
   "cell_type": "markdown",
   "metadata": {},
   "source": [
    "En Markov matrix er defineret som summen af tallene på en række skal give en"
   ]
  },
  {
   "cell_type": "markdown",
   "metadata": {},
   "source": [
    "## Opgave 19"
   ]
  },
  {
   "cell_type": "markdown",
   "metadata": {},
   "source": [
    "Argumentér for at L^T er en Markov matrix."
   ]
  },
  {
   "cell_type": "markdown",
   "metadata": {},
   "source": [
    "Svar: For at L^T skal være en Markov matrix, skal den bestå af reelle positive tal og hver række summeret skal give 1. Linkmatricen er en positiv reel matrix fordi alle værdierne angiver hvor der bliver linket til/fra. For eksempel hvis vi har en linkmatrix med A, B, C og D, som hver især er hjemmesider, kan vi for eksempel sige at A linker til C vil A-søjlen med C pladsen have et 1-tal og hvis B linker til A og C, vil der være 1/2 i B-søjlen ved henholdsvis A og C rækkerne. Der kan aldrig være negative værdier i linkmatricen, da de ikke kan linke negativt til en anden hjemmeside, enten linker de til noget, ellers gør de ikke. Vi kan også se her at det er reelle tal og ikke heltal for eksempel fordi vi ender med at have 1/2 to steder i B-søjlen. Nu giver vi et eksempel på en linkmatrix, L, der linker således: A linker til C, B linker til A og C, C linker til D og D linker til A og B. "
   ]
  },
  {
   "cell_type": "code",
   "execution_count": 2,
   "metadata": {},
   "outputs": [
    {
     "data": {
      "text/latex": [
       "$\\displaystyle \\left[\\begin{matrix}0 & 0.5 & 0 & 0.5\\\\0 & 0 & 0 & 0.5\\\\1 & 0.5 & 0 & 0\\\\0 & 0 & 1 & 0\\end{matrix}\\right]$"
      ],
      "text/plain": [
       "⎡0  0.5  0  0.5⎤\n",
       "⎢              ⎥\n",
       "⎢0   0   0  0.5⎥\n",
       "⎢              ⎥\n",
       "⎢1  0.5  0   0 ⎥\n",
       "⎢              ⎥\n",
       "⎣0   0   1   0 ⎦"
      ]
     },
     "execution_count": 2,
     "metadata": {},
     "output_type": "execute_result"
    }
   ],
   "source": [
    "L = Matrix([[0,1/2,0,1/2],[0,0,0,1/2],[1,1/2,0,0],[0,0,1,0]])\n",
    "L"
   ]
  },
  {
   "cell_type": "markdown",
   "metadata": {},
   "source": [
    "Her kan vi se at L ikke opfylder kravene til en Markov matrix da ikke alle rækkerne summeret ikke giver 1, for eksempel række 3. Nu vil vi transponere matricen: "
   ]
  },
  {
   "cell_type": "code",
   "execution_count": 3,
   "metadata": {},
   "outputs": [
    {
     "data": {
      "text/latex": [
       "$\\displaystyle \\left[\\begin{matrix}0 & 0 & 1 & 0\\\\0.5 & 0 & 0.5 & 0\\\\0 & 0 & 0 & 1\\\\0.5 & 0.5 & 0 & 0\\end{matrix}\\right]$"
      ],
      "text/plain": [
       "⎡ 0    0    1   0⎤\n",
       "⎢                ⎥\n",
       "⎢0.5   0   0.5  0⎥\n",
       "⎢                ⎥\n",
       "⎢ 0    0    0   1⎥\n",
       "⎢                ⎥\n",
       "⎣0.5  0.5   0   0⎦"
      ]
     },
     "execution_count": 3,
     "metadata": {},
     "output_type": "execute_result"
    }
   ],
   "source": [
    "L.T"
   ]
  },
  {
   "cell_type": "markdown",
   "metadata": {},
   "source": [
    "Nu kan vi konkludere at L^2 er en Markov matrix da alle rækkerne summeret nu giver 1. "
   ]
  },
  {
   "cell_type": "markdown",
   "metadata": {},
   "source": [
    "## Opgave 20"
   ]
  },
  {
   "cell_type": "markdown",
   "metadata": {},
   "source": [
    "Vis, at hvis A er en Markov matrix så er Ae = e, det vil sige, at (1,e) er et egenpar for A."
   ]
  },
  {
   "cell_type": "markdown",
   "metadata": {},
   "source": [
    "Et egenpar skal opfylde følgende: A*v=lambda*v, hvor v er egenvektoren til A, A er en markov matrix og lambda er egenværdierne til A, for at vise at det er sandt, benytter vi et eksempel med identitetsmatricen, som markov matricen:"
   ]
  },
  {
   "cell_type": "code",
   "execution_count": 4,
   "metadata": {},
   "outputs": [
    {
     "data": {
      "text/latex": [
       "$\\displaystyle \\left[\\begin{matrix}1 & 0\\\\0 & 1\\end{matrix}\\right]$"
      ],
      "text/plain": [
       "⎡1  0⎤\n",
       "⎢    ⎥\n",
       "⎣0  1⎦"
      ]
     },
     "execution_count": 4,
     "metadata": {},
     "output_type": "execute_result"
    }
   ],
   "source": [
    "A = Matrix([[1,0],[0,1]])\n",
    "A"
   ]
  },
  {
   "cell_type": "markdown",
   "metadata": {},
   "source": [
    "Vi kan se at egenærdien er 1, hvilket den altid vil blive i en markov matrix, fordi alle rækkerne summeret bliver 1, da det er en diagonalmatrix, nu forsøger vi at finde en vektor der opfylder at Ae = e"
   ]
  },
  {
   "cell_type": "code",
   "execution_count": 5,
   "metadata": {},
   "outputs": [
    {
     "data": {
      "text/latex": [
       "$\\displaystyle \\left[\\begin{matrix}1\\\\e\\end{matrix}\\right]$"
      ],
      "text/plain": [
       "⎡1⎤\n",
       "⎢ ⎥\n",
       "⎣ℯ⎦"
      ]
     },
     "execution_count": 5,
     "metadata": {},
     "output_type": "execute_result"
    }
   ],
   "source": [
    "v = Matrix([1,exp(1)])\n",
    "v"
   ]
  },
  {
   "cell_type": "code",
   "execution_count": 6,
   "metadata": {},
   "outputs": [
    {
     "data": {
      "text/latex": [
       "$\\displaystyle \\left[\\begin{matrix}1\\\\e\\end{matrix}\\right]$"
      ],
      "text/plain": [
       "⎡1⎤\n",
       "⎢ ⎥\n",
       "⎣ℯ⎦"
      ]
     },
     "execution_count": 6,
     "metadata": {},
     "output_type": "execute_result"
    }
   ],
   "source": [
    "A*v"
   ]
  },
  {
   "cell_type": "markdown",
   "metadata": {},
   "source": [
    "Da A*v = (1,e) er (1,e)  et egenpar for A"
   ]
  },
  {
   "cell_type": "markdown",
   "metadata": {},
   "source": [
    "## Opgave 21"
   ]
  },
  {
   "cell_type": "markdown",
   "metadata": {},
   "source": [
    "Bevis at en matrix A og dens transponerede matrix A^T har de samme egenværdier. Vis derefter at de ikke nødvendigvis har de samme egenvektorer (det vil sige: giv et eksempel på en matrix A, hvor A og A^T har forskellige egenvektorrum)."
   ]
  },
  {
   "cell_type": "code",
   "execution_count": 7,
   "metadata": {},
   "outputs": [
    {
     "data": {
      "image/png": "[encoded data removed]",
      "text/latex": [
       "$\\displaystyle \\left\\{ -0.5 : 1, \\  1.0 : 2\\right\\}$"
      ],
      "text/plain": [
       "{-0.5: 1, 1.0: 2}"
      ]
     },
     "execution_count": 7,
     "metadata": {},
     "output_type": "execute_result"
    }
   ],
   "source": [
    "B = Matrix([[0,1,0],[1/2,1/2,0],[0,0,1]])\n",
    "B.eigenvals()"
   ]
  },
  {
   "cell_type": "code",
   "execution_count": 8,
   "metadata": {},
   "outputs": [
    {
     "data": {
      "text/latex": [
       "$\\displaystyle \\left[ \\left( -0.5, \\  1, \\  \\left[ \\left[\\begin{matrix}-0.894427190999916\\\\0.447213595499958\\\\0\\end{matrix}\\right]\\right]\\right), \\  \\left( 1.0, \\  1, \\  \\left[ \\left[\\begin{matrix}-0.74535599249993\\\\-0.74535599249993\\\\0\\end{matrix}\\right]\\right]\\right), \\  \\left( 1.0, \\  1, \\  \\left[ \\left[\\begin{matrix}0\\\\0\\\\1.0\\end{matrix}\\right]\\right]\\right)\\right]$"
      ],
      "text/plain": [
       "⎡⎛         ⎡⎡-0.894427190999916⎤⎤⎞  ⎛        ⎡⎡-0.74535599249993⎤⎤⎞  ⎛         ↪\n",
       "⎢⎜         ⎢⎢                  ⎥⎥⎟  ⎜        ⎢⎢                 ⎥⎥⎟  ⎜         ↪\n",
       "⎢⎜-0.5, 1, ⎢⎢0.447213595499958 ⎥⎥⎟, ⎜1.0, 1, ⎢⎢-0.74535599249993⎥⎥⎟, ⎜1.0, 1,  ↪\n",
       "⎢⎜         ⎢⎢                  ⎥⎥⎟  ⎜        ⎢⎢                 ⎥⎥⎟  ⎜         ↪\n",
       "⎣⎝         ⎣⎣        0         ⎦⎦⎠  ⎝        ⎣⎣        0        ⎦⎦⎠  ⎝         ↪\n",
       "\n",
       "↪ ⎡⎡ 0 ⎤⎤⎞⎤\n",
       "↪ ⎢⎢   ⎥⎥⎟⎥\n",
       "↪ ⎢⎢ 0 ⎥⎥⎟⎥\n",
       "↪ ⎢⎢   ⎥⎥⎟⎥\n",
       "↪ ⎣⎣1.0⎦⎦⎠⎦"
      ]
     },
     "execution_count": 8,
     "metadata": {},
     "output_type": "execute_result"
    }
   ],
   "source": [
    "B.eigenvects()"
   ]
  },
  {
   "cell_type": "code",
   "execution_count": 9,
   "metadata": {},
   "outputs": [
    {
     "data": {
      "text/latex": [
       "$\\displaystyle \\left[\\begin{matrix}0 & 0.5 & 0\\\\1 & 0.5 & 0\\\\0 & 0 & 1\\end{matrix}\\right]$"
      ],
      "text/plain": [
       "⎡0  0.5  0⎤\n",
       "⎢         ⎥\n",
       "⎢1  0.5  0⎥\n",
       "⎢         ⎥\n",
       "⎣0   0   1⎦"
      ]
     },
     "execution_count": 9,
     "metadata": {},
     "output_type": "execute_result"
    }
   ],
   "source": [
    "B1 = B.T\n",
    "B1"
   ]
  },
  {
   "cell_type": "code",
   "execution_count": 10,
   "metadata": {},
   "outputs": [
    {
     "data": {
      "image/png": "[encoded data removed]",
      "text/latex": [
       "$\\displaystyle \\left\\{ -0.5 : 1, \\  1.0 : 2\\right\\}$"
      ],
      "text/plain": [
       "{-0.5: 1, 1.0: 2}"
      ]
     },
     "execution_count": 10,
     "metadata": {},
     "output_type": "execute_result"
    }
   ],
   "source": [
    "B1.eigenvals()"
   ]
  },
  {
   "cell_type": "code",
   "execution_count": 11,
   "metadata": {},
   "outputs": [
    {
     "data": {
      "text/latex": [
       "$\\displaystyle \\left[ \\left( -0.5, \\  1, \\  \\left[ \\left[\\begin{matrix}-0.707106781186548\\\\0.707106781186548\\\\0\\end{matrix}\\right]\\right]\\right), \\  \\left( 1.0, \\  1, \\  \\left[ \\left[\\begin{matrix}-0.471404520791032\\\\-0.942809041582063\\\\0\\end{matrix}\\right]\\right]\\right), \\  \\left( 1.0, \\  1, \\  \\left[ \\left[\\begin{matrix}0\\\\0\\\\1.0\\end{matrix}\\right]\\right]\\right)\\right]$"
      ],
      "text/plain": [
       "⎡⎛         ⎡⎡-0.707106781186548⎤⎤⎞  ⎛        ⎡⎡-0.471404520791032⎤⎤⎞  ⎛        ↪\n",
       "⎢⎜         ⎢⎢                  ⎥⎥⎟  ⎜        ⎢⎢                  ⎥⎥⎟  ⎜        ↪\n",
       "⎢⎜-0.5, 1, ⎢⎢0.707106781186548 ⎥⎥⎟, ⎜1.0, 1, ⎢⎢-0.942809041582063⎥⎥⎟, ⎜1.0, 1, ↪\n",
       "⎢⎜         ⎢⎢                  ⎥⎥⎟  ⎜        ⎢⎢                  ⎥⎥⎟  ⎜        ↪\n",
       "⎣⎝         ⎣⎣        0         ⎦⎦⎠  ⎝        ⎣⎣        0         ⎦⎦⎠  ⎝        ↪\n",
       "\n",
       "↪  ⎡⎡ 0 ⎤⎤⎞⎤\n",
       "↪  ⎢⎢   ⎥⎥⎟⎥\n",
       "↪  ⎢⎢ 0 ⎥⎥⎟⎥\n",
       "↪  ⎢⎢   ⎥⎥⎟⎥\n",
       "↪  ⎣⎣1.0⎦⎦⎠⎦"
      ]
     },
     "execution_count": 11,
     "metadata": {},
     "output_type": "execute_result"
    }
   ],
   "source": [
    "B1.eigenvects()"
   ]
  },
  {
   "cell_type": "markdown",
   "metadata": {},
   "source": [
    "Nu har vi vist at egenværdierne er de samme for B og B1, men at egenvektorerne er forskellige. "
   ]
  },
  {
   "cell_type": "markdown",
   "metadata": {},
   "source": [
    "## Opgave 22"
   ]
  },
  {
   "cell_type": "markdown",
   "metadata": {},
   "source": [
    "Lad A være en Markov matrix, og lad 0 < d < 1. Bevis, at A_d også er en Markov matrix, og at A_d har strengt positive elementer, det vil sige (A_d)_ij > 0 for alle i og j."
   ]
  },
  {
   "cell_type": "markdown",
   "metadata": {},
   "source": [
    "I det første led har vi $$((1-d)/n)*E_n$$, som bliver til en matrix hvor hvert element er $$(1-d)/n$$, fordi $E_n$ bare er en nxn matrix med 1-taller. Hvis vi ganger den matrix igennem med n får vi hvert element til 1-d. Det sidste led har vi d*A, hvor vi ved at A er en marko matrix, derfor giver alle rækkerne 1, så ender vi med at få d*1 på hver linje. Herefter kan vi se at vi får $1-d+d = 1$"
   ]
  },
  {
   "cell_type": "code",
   "execution_count": 12,
   "metadata": {},
   "outputs": [
    {
     "data": {
      "image/png": "[encoded data removed]",
      "text/latex": [
       "$\\displaystyle x + 1$"
      ],
      "text/plain": [
       "x + 1"
      ]
     },
     "execution_count": 12,
     "metadata": {},
     "output_type": "execute_result"
    }
   ],
   "source": [
    "x = symbols ('x')\n",
    "(x/2)*2 + 1"
   ]
  },
  {
   "cell_type": "code",
   "execution_count": 13,
   "metadata": {},
   "outputs": [],
   "source": [
    "C = Matrix([[0.2,0,0],[0,0.2,0],[0.2,0,0]])"
   ]
  },
  {
   "cell_type": "code",
   "execution_count": 14,
   "metadata": {},
   "outputs": [],
   "source": [
    "D = Matrix([[0.2666666,0.2666666,0.2666666],[0.2666666,0.2666666,0.2666666],[0.2666666,0.2666666,0.2666666]])"
   ]
  },
  {
   "cell_type": "code",
   "execution_count": 15,
   "metadata": {},
   "outputs": [
    {
     "data": {
      "text/latex": [
       "$\\displaystyle \\left[\\begin{matrix}0.4666666 & 0.2666666 & 0.2666666\\\\0.2666666 & 0.4666666 & 0.2666666\\\\0.4666666 & 0.2666666 & 0.2666666\\end{matrix}\\right]$"
      ],
      "text/plain": [
       "⎡0.4666666  0.2666666  0.2666666⎤\n",
       "⎢                               ⎥\n",
       "⎢0.2666666  0.4666666  0.2666666⎥\n",
       "⎢                               ⎥\n",
       "⎣0.4666666  0.2666666  0.2666666⎦"
      ]
     },
     "execution_count": 15,
     "metadata": {},
     "output_type": "execute_result"
    }
   ],
   "source": [
    "C+D"
   ]
  },
  {
   "cell_type": "markdown",
   "metadata": {},
   "source": [
    "## Opgave 23"
   ]
  },
  {
   "cell_type": "markdown",
   "metadata": {},
   "source": [
    "Vi antog tidligere, at den modificerede link matrix M_d havde egenværdi 1 for 0 < d < 1. Vis dette."
   ]
  },
  {
   "cell_type": "code",
   "execution_count": null,
   "metadata": {},
   "outputs": [],
   "source": []
  }
 ],
 "metadata": {
  "kernelspec": {
   "display_name": "base",
   "language": "python",
   "name": "python3"
  },
  "language_info": {
   "codemirror_mode": {
    "name": "ipython",
    "version": 3
   },
   "file_extension": ".py",
   "mimetype": "text/x-python",
   "name": "python",
   "nbconvert_exporter": "python",
   "pygments_lexer": "ipython3",
   "version": "3.11.10"
  }
 },
 "nbformat": 4,
 "nbformat_minor": 2
}
