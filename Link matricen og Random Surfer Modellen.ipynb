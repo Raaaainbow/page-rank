{
 "cells": [
  {
   "cell_type": "code",
   "execution_count": 266,
   "metadata": {},
   "outputs": [],
   "source": [
    "import cmath\n",
    "import matplotlib\n",
    "import sympy as sp\n",
    "import random as rand"
   ]
  },
  {
   "cell_type": "markdown",
   "metadata": {},
   "source": [
    "## Opgave 7"
   ]
  },
  {
   "cell_type": "code",
   "execution_count": 267,
   "metadata": {},
   "outputs": [],
   "source": [
    "W1 = {\n",
    "    'P1': {'P2', 'P3'},\n",
    "    'P2': {'P3'},\n",
    "    'P3': {'P1'},\n",
    "    'P4': {'P5'},\n",
    "    'P5': {}\n",
    "}\n",
    "W2 = {\n",
    "    'P1': {'P2'},\n",
    "    'P2': {'P3'},\n",
    "    'P3': {'P1'},\n",
    "    'P4': {'P5'},\n",
    "    'P5': {'P6'},\n",
    "    'P6': {'P4'}\n",
    "}"
   ]
  },
  {
   "cell_type": "code",
   "execution_count": 268,
   "metadata": {},
   "outputs": [
    {
     "data": {
      "text/latex": [
       "$\\displaystyle \\left[\\begin{matrix}0 & 0 & 1 & 0 & 0\\\\1 & 0 & 0 & 0 & 0\\\\1 & 1 & 0 & 0 & 0\\\\0 & 0 & 0 & 0 & 0\\\\0 & 0 & 0 & 1 & 0\\end{matrix}\\right]$"
      ],
      "text/plain": [
       "Matrix([\n",
       "[0, 0, 1, 0, 0],\n",
       "[1, 0, 0, 0, 0],\n",
       "[1, 1, 0, 0, 0],\n",
       "[0, 0, 0, 0, 0],\n",
       "[0, 0, 0, 1, 0]])"
      ]
     },
     "execution_count": 268,
     "metadata": {},
     "output_type": "execute_result"
    }
   ],
   "source": [
    "adjMatrixW1 = sp.Matrix([[0,0,1,0,0],\n",
    "                        [1,0,0,0,0],\n",
    "                        [1,1,0,0,0],\n",
    "                        [0,0,0,0,0],\n",
    "                        [0,0,0,1,0]])\n",
    "adjMatrixW1"
   ]
  },
  {
   "cell_type": "markdown",
   "metadata": {},
   "source": [
    "Vi ser at P5 er en sink, da det er en 0-vektor og ikke linker til andre hjemmesider."
   ]
  },
  {
   "cell_type": "markdown",
   "metadata": {},
   "source": [
    "# Opgave 8"
   ]
  },
  {
   "cell_type": "code",
   "execution_count": 269,
   "metadata": {},
   "outputs": [
    {
     "data": {
      "text/latex": [
       "$\\displaystyle \\left[\\begin{matrix}0 & 0 & 1 & 0 & 0.2\\\\0.5 & 0 & 0 & 0 & 0.2\\\\0.5 & 1 & 0 & 0 & 0.2\\\\0 & 0 & 0 & 0 & 0.2\\\\0 & 0 & 0 & 1 & 0.2\\end{matrix}\\right]$"
      ],
      "text/plain": [
       "Matrix([\n",
       "[  0, 0, 1, 0, 0.2],\n",
       "[0.5, 0, 0, 0, 0.2],\n",
       "[0.5, 1, 0, 0, 0.2],\n",
       "[  0, 0, 0, 0, 0.2],\n",
       "[  0, 0, 0, 1, 0.2]])"
      ]
     },
     "execution_count": 269,
     "metadata": {},
     "output_type": "execute_result"
    }
   ],
   "source": [
    "L_ij = sp.Matrix([[0,0,1,0,1/5],[1/2,0,0,0,1/5],[1/2,1,0,0,1/5],[0,0,0,0,1/5],[0,0,0,1,1/5]])\n",
    "L_ij"
   ]
  },
  {
   "cell_type": "markdown",
   "metadata": {},
   "source": [
    "Hvis der er link imellem P_j og P_i er sandsynligheden 1 over antallet af edges i P_j. Hvis P_j er en sink, så er sandsynligheden 1 over antallet af alle hjemmesider."
   ]
  },
  {
   "cell_type": "markdown",
   "metadata": {},
   "source": [
    "Alle søjlerne er sandsynlighedsvektorer. Deres elementer er ikke-negative og summerer til 1."
   ]
  },
  {
   "cell_type": "markdown",
   "metadata": {},
   "source": [
    "Det er nærmest det samme som matricen, fordi mange af hjemmesiderne kun linker til en anden hjemmeside. De fleste nuller bliver ved med at være 0, men for P5, som er en sink bliver sandsynligheden for at komme ind på en vilkårlig side 1/5. "
   ]
  },
  {
   "cell_type": "markdown",
   "metadata": {},
   "source": [
    "# Opgave 9"
   ]
  },
  {
   "cell_type": "code",
   "execution_count": 270,
   "metadata": {},
   "outputs": [],
   "source": [
    "def counter(p, counts):\n",
    "    if p in counts:\n",
    "        counts[p] += 1\n"
   ]
  },
  {
   "cell_type": "code",
   "execution_count": 271,
   "metadata": {},
   "outputs": [],
   "source": [
    "chosenp = None\n",
    "def surf_step(web, p):\n",
    "    \n",
    "    # Input: Et netværk som dictionary og en start side\n",
    "    # Output: Sandsynlighedsfordeling som dictionary for næste hjemmeside\n",
    "    \n",
    "    distribution=dict()\n",
    "    for key in web:\n",
    "        counts = dict(web)\n",
    "        counts[key] = 0\n",
    "    #counts = {'P1': 0, 'P2': 0, 'P3': 0, 'P4': 0, 'P5': 0}\n",
    "    distribution = dict(counts)\n",
    "\n",
    "    if not p:  \n",
    "        p = rand.choice(list(web.keys()))\n",
    "    elif not web[p]: \n",
    "        p = rand.choice(list(web.keys()))\n",
    "    else:\n",
    "        p = rand.choice(list(web[p]))\n",
    "    counter(p, counts)\n",
    "\n",
    "    global chosenp\n",
    "    chosenp = p\n",
    "\n",
    "    total = sum(counts.values())\n",
    "    if total > 0:\n",
    "        for i in counts:\n",
    "            distribution[i] = counts[i] / total\n",
    "\n",
    "    return distribution\n"
   ]
  },
  {
   "cell_type": "code",
   "execution_count": 272,
   "metadata": {},
   "outputs": [
    {
     "ename": "TypeError",
     "evalue": "unsupported operand type(s) for +=: 'set' and 'int'",
     "output_type": "error",
     "traceback": [
      "\u001b[1;31m---------------------------------------------------------------------------\u001b[0m",
      "\u001b[1;31mTypeError\u001b[0m                                 Traceback (most recent call last)",
      "Cell \u001b[1;32mIn[272], line 1\u001b[0m\n\u001b[1;32m----> 1\u001b[0m \u001b[43msurf_step\u001b[49m\u001b[43m(\u001b[49m\u001b[43mW1\u001b[49m\u001b[43m,\u001b[49m\u001b[43m \u001b[49m\u001b[38;5;124;43m'\u001b[39;49m\u001b[38;5;124;43mP1\u001b[39;49m\u001b[38;5;124;43m'\u001b[39;49m\u001b[43m)\u001b[49m\n",
      "Cell \u001b[1;32mIn[271], line 20\u001b[0m, in \u001b[0;36msurf_step\u001b[1;34m(web, p)\u001b[0m\n\u001b[0;32m     18\u001b[0m \u001b[38;5;28;01melse\u001b[39;00m:\n\u001b[0;32m     19\u001b[0m     p \u001b[38;5;241m=\u001b[39m rand\u001b[38;5;241m.\u001b[39mchoice(\u001b[38;5;28mlist\u001b[39m(web[p]))\n\u001b[1;32m---> 20\u001b[0m \u001b[43mcounter\u001b[49m\u001b[43m(\u001b[49m\u001b[43mp\u001b[49m\u001b[43m,\u001b[49m\u001b[43m \u001b[49m\u001b[43mcounts\u001b[49m\u001b[43m)\u001b[49m\n\u001b[0;32m     22\u001b[0m \u001b[38;5;28;01mglobal\u001b[39;00m chosenp\n\u001b[0;32m     23\u001b[0m chosenp \u001b[38;5;241m=\u001b[39m p\n",
      "Cell \u001b[1;32mIn[270], line 3\u001b[0m, in \u001b[0;36mcounter\u001b[1;34m(p, counts)\u001b[0m\n\u001b[0;32m      1\u001b[0m \u001b[38;5;28;01mdef\u001b[39;00m \u001b[38;5;21mcounter\u001b[39m(p, counts):\n\u001b[0;32m      2\u001b[0m     \u001b[38;5;28;01mif\u001b[39;00m p \u001b[38;5;129;01min\u001b[39;00m counts:\n\u001b[1;32m----> 3\u001b[0m         \u001b[43mcounts\u001b[49m\u001b[43m[\u001b[49m\u001b[43mp\u001b[49m\u001b[43m]\u001b[49m\u001b[43m \u001b[49m\u001b[38;5;241;43m+\u001b[39;49m\u001b[38;5;241;43m=\u001b[39;49m\u001b[43m \u001b[49m\u001b[38;5;241;43m1\u001b[39;49m\n",
      "\u001b[1;31mTypeError\u001b[0m: unsupported operand type(s) for +=: 'set' and 'int'"
     ]
    }
   ],
   "source": [
    "surf_step(W1, 'P1')"
   ]
  },
  {
   "cell_type": "markdown",
   "metadata": {},
   "source": [
    "# Opgave 10"
   ]
  },
  {
   "cell_type": "code",
   "execution_count": null,
   "metadata": {},
   "outputs": [],
   "source": [
    "import random\n",
    "def random_surf(web, n):\n",
    "    \n",
    "    # Input: Et netværk som dictionary og en start side\n",
    "    # Output: Sandsynlighedsfordeling som dictionary for næste hjemmeside\n",
    "    \n",
    "    for key in web:\n",
    "        ranking = web\n",
    "        ranking[key] = 0\n",
    "\n",
    "    p = random.choice(list(web.keys()))\n",
    "\n",
    "    for _ in range(n):\n",
    "        temp = surf_step(web, p) \n",
    "        \n",
    "        for page in ranking:\n",
    "            ranking[page] += temp.get(page, 0)\n",
    "\n",
    "        p =  chosenp\n",
    "\n",
    "    for page in ranking:\n",
    "        ranking[page] /= n\n",
    "\n",
    "    return ranking\n",
    "\n",
    "\n"
   ]
  },
  {
   "cell_type": "markdown",
   "metadata": {},
   "source": [
    "# Opgave 11"
   ]
  },
  {
   "cell_type": "code",
   "execution_count": null,
   "metadata": {},
   "outputs": [
    {
     "data": {
      "text/plain": [
       "{'P1': 0.0, 'P2': 0.0, 'P3': 0.0, 'P4': 0.0, 'P5': 0.02}"
      ]
     },
     "execution_count": 245,
     "metadata": {},
     "output_type": "execute_result"
    }
   ],
   "source": [
    "random_surf(W1, 100)"
   ]
  },
  {
   "cell_type": "code",
   "execution_count": null,
   "metadata": {},
   "outputs": [
    {
     "data": {
      "text/plain": [
       "{'P1': 0.396, 'P2': 0.207, 'P3': 0.396, 'P4': 0.0, 'P5': 0.001}"
      ]
     },
     "execution_count": 234,
     "metadata": {},
     "output_type": "execute_result"
    }
   ],
   "source": [
    "random_surf(W1, 1000)"
   ]
  },
  {
   "cell_type": "code",
   "execution_count": null,
   "metadata": {},
   "outputs": [
    {
     "data": {
      "text/plain": [
       "{'P1': 0.4013, 'P2': 0.1974, 'P3': 0.4013, 'P4': 0.0, 'P5': 0.0}"
      ]
     },
     "execution_count": 236,
     "metadata": {},
     "output_type": "execute_result"
    }
   ],
   "source": [
    "random_surf(W1, 10000)"
   ]
  },
  {
   "cell_type": "code",
   "execution_count": null,
   "metadata": {},
   "outputs": [
    {
     "data": {
      "text/plain": [
       "{'P1': 0.33, 'P2': 0.34, 'P3': 0.33, 'P4': 0.0, 'P5': 0.0}"
      ]
     },
     "execution_count": 238,
     "metadata": {},
     "output_type": "execute_result"
    }
   ],
   "source": [
    "random_surf(W2, 100)"
   ]
  },
  {
   "cell_type": "code",
   "execution_count": null,
   "metadata": {},
   "outputs": [
    {
     "data": {
      "text/plain": [
       "{'P1': 0.333, 'P2': 0.334, 'P3': 0.333, 'P4': 0.0, 'P5': 0.0}"
      ]
     },
     "execution_count": 239,
     "metadata": {},
     "output_type": "execute_result"
    }
   ],
   "source": [
    "random_surf(W2, 1000)"
   ]
  },
  {
   "cell_type": "code",
   "execution_count": null,
   "metadata": {},
   "outputs": [
    {
     "data": {
      "text/plain": [
       "{'P1': 0.0, 'P2': 0.0, 'P3': 0.0, 'P4': 0.3334, 'P5': 0.3333}"
      ]
     },
     "execution_count": 240,
     "metadata": {},
     "output_type": "execute_result"
    }
   ],
   "source": [
    "random_surf(W2, 10000)"
   ]
  },
  {
   "cell_type": "code",
   "execution_count": null,
   "metadata": {},
   "outputs": [],
   "source": []
  }
 ],
 "metadata": {
  "kernelspec": {
   "display_name": "base",
   "language": "python",
   "name": "python3"
  },
  "language_info": {
   "codemirror_mode": {
    "name": "ipython",
    "version": 3
   },
   "file_extension": ".py",
   "mimetype": "text/x-python",
   "name": "python",
   "nbconvert_exporter": "python",
   "pygments_lexer": "ipython3",
   "version": "3.11.10"
  }
 },
 "nbformat": 4,
 "nbformat_minor": 2
}
