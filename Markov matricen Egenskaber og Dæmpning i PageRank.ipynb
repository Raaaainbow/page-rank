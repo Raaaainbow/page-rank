{
 "cells": [
  {
   "cell_type": "code",
   "execution_count": 6,
   "metadata": {},
   "outputs": [],
   "source": [
    "import cmath\n",
    "import matplotlib\n",
    "import sympy as sp\n",
    "from sympy import *"
   ]
  },
  {
   "cell_type": "markdown",
   "metadata": {},
   "source": [
    "L = linkmatricen,\n",
    "L^T er link-matricen transpereret,\n",
    "Om L er transpereret eller ikke er, gør ingen forskel"
   ]
  },
  {
   "cell_type": "markdown",
   "metadata": {},
   "source": [
    "En Markov matrix er defineret som summen af tallene på en række skal give en"
   ]
  },
  {
   "cell_type": "markdown",
   "metadata": {},
   "source": [
    "## Opgave 19"
   ]
  },
  {
   "cell_type": "markdown",
   "metadata": {},
   "source": [
    "Argumentér for at L^T er en Markov matrix."
   ]
  },
  {
   "cell_type": "markdown",
   "metadata": {},
   "source": [
    "Svar: For at L^T skal være en Markov matrix, skal den bestå af reelle positive tal og hver række summeret skal give 1. Linkmatricen er en positiv reel matrix fordi alle værdierne angiver hvor der bliver linket til/fra. For eksempel hvis vi har en linkmatrix med A, B, C og D, som hver især er hjemmesider, kan vi for eksempel sige at A linker til C vil A-søjlen med C pladsen have et 1-tal og hvis B linker til A og C, vil der være 1/2 i B-søjlen ved henholdsvis A og C rækkerne. Der kan aldrig være negative værdier i linkmatricen, da de ikke kan linke negativt til en anden hjemmeside, enten linker de til noget, ellers gør de ikke. Vi kan også se her at det er reelle tal og ikke heltal for eksempel fordi vi ender med at have 1/2 to steder i B-søjlen. Nu giver vi et eksempel på en linkmatrix, L, der linker således: A linker til C, B linker til A og C, C linker til D og D linker til A og B. "
   ]
  },
  {
   "cell_type": "code",
   "execution_count": 8,
   "metadata": {},
   "outputs": [
    {
     "data": {
      "text/latex": [
       "$\\displaystyle \\left[\\begin{matrix}0 & 0.5 & 0 & 0.5\\\\0 & 0 & 0 & 0.5\\\\1 & 0.5 & 0 & 0\\\\0 & 0 & 1 & 0\\end{matrix}\\right]$"
      ],
      "text/plain": [
       "Matrix([\n",
       "[0, 0.5, 0, 0.5],\n",
       "[0,   0, 0, 0.5],\n",
       "[1, 0.5, 0,   0],\n",
       "[0,   0, 1,   0]])"
      ]
     },
     "execution_count": 8,
     "metadata": {},
     "output_type": "execute_result"
    }
   ],
   "source": [
    "L = Matrix([[0,1/2,0,1/2],[0,0,0,1/2],[1,1/2,0,0],[0,0,1,0]])\n",
    "L"
   ]
  },
  {
   "cell_type": "markdown",
   "metadata": {},
   "source": [
    "Her kan vi se at L ikke opfylder kravene til en Markov matrix da ikke alle rækkerne summeret ikke giver 1, for eksempel række 3. Nu vil vi transponere matricen: "
   ]
  },
  {
   "cell_type": "code",
   "execution_count": 11,
   "metadata": {},
   "outputs": [
    {
     "data": {
      "text/latex": [
       "$\\displaystyle \\left[\\begin{matrix}0 & 0 & 1 & 0\\\\0.5 & 0 & 0.5 & 0\\\\0 & 0 & 0 & 1\\\\0.5 & 0.5 & 0 & 0\\end{matrix}\\right]$"
      ],
      "text/plain": [
       "Matrix([\n",
       "[  0,   0,   1, 0],\n",
       "[0.5,   0, 0.5, 0],\n",
       "[  0,   0,   0, 1],\n",
       "[0.5, 0.5,   0, 0]])"
      ]
     },
     "execution_count": 11,
     "metadata": {},
     "output_type": "execute_result"
    }
   ],
   "source": [
    "L.T"
   ]
  },
  {
   "cell_type": "markdown",
   "metadata": {},
   "source": [
    "Nu kan vi konkludere at L^2 er en Markov matrix da alle rækkerne summeret nu giver 1. "
   ]
  },
  {
   "cell_type": "markdown",
   "metadata": {},
   "source": [
    "## Opgave 20"
   ]
  },
  {
   "cell_type": "markdown",
   "metadata": {},
   "source": [
    "Vis, at hvis A er en Markov matrix så er Ae = e, det vil sige, at (1,e) er et egenpar for A."
   ]
  },
  {
   "cell_type": "markdown",
   "metadata": {},
   "source": [
    "Et egenpar skal opfylde følgende: A*v=lambda*v, hvor v er egenvektoren til A, A er en markov matrix og lambda er egenværdierne til A, for at vise at det er sandt, benytter vi et eksempel med identitetsmatricen, som markov matricen:"
   ]
  },
  {
   "cell_type": "code",
   "execution_count": 14,
   "metadata": {},
   "outputs": [
    {
     "data": {
      "text/latex": [
       "$\\displaystyle \\left[\\begin{matrix}1 & 0\\\\0 & 1\\end{matrix}\\right]$"
      ],
      "text/plain": [
       "Matrix([\n",
       "[1, 0],\n",
       "[0, 1]])"
      ]
     },
     "execution_count": 14,
     "metadata": {},
     "output_type": "execute_result"
    }
   ],
   "source": [
    "A = Matrix([[1,0],[0,1]])\n",
    "A"
   ]
  },
  {
   "cell_type": "markdown",
   "metadata": {},
   "source": [
    "Vi kan se at egenærdien er 1, hvilket den altid vil blive i en markov matrix, fordi alle rækkerne summeret bliver 1, da det er en diagonalmatrix, nu forsøger vi at finde en vektor der opfylder at Ae = e"
   ]
  },
  {
   "cell_type": "code",
   "execution_count": 18,
   "metadata": {},
   "outputs": [
    {
     "data": {
      "text/latex": [
       "$\\displaystyle \\left[\\begin{matrix}1\\\\e\\end{matrix}\\right]$"
      ],
      "text/plain": [
       "Matrix([\n",
       "[1],\n",
       "[E]])"
      ]
     },
     "execution_count": 18,
     "metadata": {},
     "output_type": "execute_result"
    }
   ],
   "source": [
    "v = Matrix([1,exp(1)])\n",
    "v"
   ]
  },
  {
   "cell_type": "code",
   "execution_count": 19,
   "metadata": {},
   "outputs": [
    {
     "data": {
      "text/latex": [
       "$\\displaystyle \\left[\\begin{matrix}1\\\\e\\end{matrix}\\right]$"
      ],
      "text/plain": [
       "Matrix([\n",
       "[1],\n",
       "[E]])"
      ]
     },
     "execution_count": 19,
     "metadata": {},
     "output_type": "execute_result"
    }
   ],
   "source": [
    "A*v"
   ]
  },
  {
   "cell_type": "markdown",
   "metadata": {},
   "source": [
    "Da A*v = (1,e) er (1,e)  et egenpar for A"
   ]
  },
  {
   "cell_type": "markdown",
   "metadata": {},
   "source": [
    "## Opgave 21"
   ]
  },
  {
   "cell_type": "markdown",
   "metadata": {},
   "source": [
    "Bevis at en matrix A og dens transponerede matrix A^T har de samme egenværdier. Vis derefter at de ikke nødvendigvis har de samme egenvektorer (det vil sige: giv et eksempel på en matrix A, hvor A og A^T har forskellige egenvektorrum)."
   ]
  }
 ],
 "metadata": {
  "kernelspec": {
   "display_name": "base",
   "language": "python",
   "name": "python3"
  },
  "language_info": {
   "codemirror_mode": {
    "name": "ipython",
    "version": 3
   },
   "file_extension": ".py",
   "mimetype": "text/x-python",
   "name": "python",
   "nbconvert_exporter": "python",
   "pygments_lexer": "ipython3",
   "version": "3.11.10"
  }
 },
 "nbformat": 4,
 "nbformat_minor": 2
}
