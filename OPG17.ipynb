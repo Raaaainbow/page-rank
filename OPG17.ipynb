{
 "cells": [
  {
   "cell_type": "markdown",
   "id": "3aeded68",
   "metadata": {},
   "source": [
    "# Opgave 17 & 18"
   ]
  },
  {
   "cell_type": "code",
   "execution_count": 512,
   "id": "4c1086ce",
   "metadata": {},
   "outputs": [],
   "source": [
    "W1 = {\n",
    "    'P1': {'P2', 'P3'},\n",
    "    'P2': {'P3'},\n",
    "    'P3': {'P1'},\n",
    "    'P4': {'P5'},\n",
    "    'P5': {}\n",
    "}\n",
    "W2 = {\n",
    "    'P1': {'P2'},\n",
    "    'P2': {'P3'},\n",
    "    'P3': {'P1'},\n",
    "    'P4': {'P5'},\n",
    "    'P5': {'P6'},\n",
    "    'P6': {'P4'}\n",
    "}"
   ]
  },
  {
   "cell_type": "code",
   "execution_count": 513,
   "id": "92ff8a13",
   "metadata": {},
   "outputs": [
    {
     "name": "stdout",
     "output_type": "stream",
     "text": [
      "10\n"
     ]
    }
   ],
   "source": [
    "import numpy as np\n",
    "\n",
    "def checkArrayValue(array,value):\n",
    "    for i in range(0,len(array)):\n",
    "        if array[i] == value:\n",
    "            return True\n",
    "        \n",
    "    return False\n",
    "\n",
    "def make_web(n,k,kmin=0):\n",
    "\n",
    "    # Input: n og k er ikke-negative heltal\n",
    "    # Output: web er en dictionary med n nøgler.\n",
    "    # Værdien af hver nøgle er en liste, der er en delmængde af nøglerne.\n",
    "    \n",
    "    assert(k < n), \"k skal være mindre end n (da man ikke kan linke til sig selv)\"\n",
    "    assert(kmin <= k), \"kmin skal være mindre end eller lig med k\"\n",
    "    keys = list(range(n)) # definerer n nøgler fra 0 til n-1 \n",
    "    web = dict()\n",
    "    \n",
    "    for j in keys:\n",
    "        numlinks = np.random.randint(kmin, k + 1) \n",
    "        links = list(np.random.choice([x for x in keys if x != j], size=numlinks, replace=False))\n",
    "        web[j] = links \n",
    "\n",
    "    return web\n",
    "\n",
    "web = make_web(10,9,5)\n",
    "print(len(web)) \n",
    "\n",
    "                \n"
   ]
  },
  {
   "cell_type": "code",
   "execution_count": 514,
   "id": "741cc4b7",
   "metadata": {},
   "outputs": [
    {
     "name": "stdout",
     "output_type": "stream",
     "text": [
      "\n",
      "Modified Link Matrix (d = 0.85):\n",
      "\n",
      "       0      1      2      3      4      5      6      7      8      9\n",
      "0  0.015  0.185  0.157  0.185  0.121  0.121  0.109  0.121  0.136  0.185\n",
      "1  0.157  0.015  0.157  0.185  0.121  0.015  0.109  0.121  0.015  0.185\n",
      "2  0.015  0.185  0.015  0.015  0.121  0.121  0.109  0.015  0.136  0.185\n",
      "3  0.157  0.185  0.015  0.015  0.121  0.121  0.109  0.121  0.136  0.185\n",
      "4  0.157  0.015  0.157  0.015  0.015  0.121  0.109  0.121  0.136  0.015\n",
      "5  0.157  0.185  0.015  0.185  0.121  0.015  0.109  0.121  0.136  0.015\n",
      "6  0.015  0.185  0.157  0.015  0.015  0.121  0.015  0.121  0.015  0.015\n",
      "7  0.157  0.015  0.157  0.185  0.121  0.121  0.109  0.015  0.136  0.185\n",
      "8  0.015  0.015  0.015  0.015  0.121  0.121  0.109  0.121  0.015  0.015\n",
      "9  0.157  0.015  0.157  0.185  0.121  0.121  0.109  0.121  0.136  0.015\n",
      "\n",
      "Søjlesummer:\n",
      " 0    1.0\n",
      "1    1.0\n",
      "2    1.0\n",
      "3    1.0\n",
      "4    1.0\n",
      "5    1.0\n",
      "6    1.0\n",
      "7    1.0\n",
      "8    1.0\n",
      "9    1.0\n",
      "dtype: float64\n"
     ]
    }
   ],
   "source": [
    "import numpy as np\n",
    "import pandas as pd\n",
    "\n",
    "def modified_link_matrix(web, pagelist, d=0.85, print_matrix=True):\n",
    "    N = len(pagelist)\n",
    "    A = np.zeros((N, N))\n",
    "\n",
    "    page_index = {page: i for i, page in enumerate(pagelist)}\n",
    "\n",
    "    for j, page_j in enumerate(pagelist):\n",
    "        outlinks = web.get(page_j, [])\n",
    "        if not outlinks:\n",
    "            A[:, j] = 1 / N \n",
    "        else:\n",
    "            valid_links = [link for link in outlinks if link in page_index]\n",
    "            L = len(valid_links)\n",
    "            if L > 0:\n",
    "                for linked_page in valid_links:\n",
    "                    i = page_index[linked_page]\n",
    "                    A[i, j] = 1 / L\n",
    "            else:\n",
    "                A[:, j] = 1 / N \n",
    "\n",
    "    E = np.ones((N, N))\n",
    "    M = d * A + (1 - d) * E / N\n",
    "\n",
    "    if print_matrix:\n",
    "        df = pd.DataFrame(M, index=pagelist, columns=pagelist)\n",
    "        print(\"\\nModified Link Matrix (d = {:.2f}):\\n\".format(d))\n",
    "        print(np.round(df, 3))\n",
    "        print(\"\\nSøjlesummer:\\n\", df.sum()) \n",
    "\n",
    "    return M\n",
    "\n",
    "\n",
    "M = modified_link_matrix(make_web(10,9,5),[i for i in range(10)],print_matrix=True)"
   ]
  }
 ],
 "metadata": {
  "kernelspec": {
   "display_name": "Python 3",
   "language": "python",
   "name": "python3"
  },
  "language_info": {
   "codemirror_mode": {
    "name": "ipython",
    "version": 3
   },
   "file_extension": ".py",
   "mimetype": "text/x-python",
   "name": "python",
   "nbconvert_exporter": "python",
   "pygments_lexer": "ipython3",
   "version": "3.12.6"
  }
 },
 "nbformat": 4,
 "nbformat_minor": 5
}
