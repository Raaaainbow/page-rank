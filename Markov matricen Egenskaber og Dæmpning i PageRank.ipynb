{
 "cells": [
  {
   "cell_type": "code",
   "execution_count": 2,
   "metadata": {},
   "outputs": [],
   "source": [
    "import cmath\n",
    "import matplotlib\n",
    "import sympy as sp\n",
    "from sympy import *\n",
    "init_printing()"
   ]
  },
  {
   "cell_type": "markdown",
   "metadata": {},
   "source": [
    "L = linkmatricen,\n",
    "L^T er link-matricen transpereret,\n",
    "Om L er transpereret eller ikke er, gør ingen forskel"
   ]
  },
  {
   "cell_type": "markdown",
   "metadata": {},
   "source": [
    "En Markov matrix er defineret som summen af tallene på en række skal give en"
   ]
  },
  {
   "cell_type": "markdown",
   "metadata": {},
   "source": [
    "## Opgave 19"
   ]
  },
  {
   "cell_type": "markdown",
   "metadata": {},
   "source": [
    "Argumentér for at L^T er en Markov matrix."
   ]
  },
  {
   "cell_type": "markdown",
   "metadata": {},
   "source": [
    "Svar: For at L^T skal være en Markov matrix, skal den bestå af reelle positive tal og hver række summeret skal give 1. Linkmatricen er en positiv reel matrix fordi alle værdierne angiver hvor der bliver linket til/fra. For eksempel hvis vi har en linkmatrix med A, B, C og D, som hver især er hjemmesider, kan vi for eksempel sige at A linker til C vil A-søjlen med C pladsen have et 1-tal og hvis B linker til A og C, vil der være 1/2 i B-søjlen ved henholdsvis A og C rækkerne. Der kan aldrig være negative værdier i linkmatricen, da de ikke kan linke negativt til en anden hjemmeside, enten linker de til noget, ellers gør de ikke. Vi kan også se her at det er reelle tal og ikke heltal for eksempel fordi vi ender med at have 1/2 to steder i B-søjlen. Nu giver vi et eksempel på en linkmatrix, L, der linker således: A linker til C, B linker til A og C, C linker til D og D linker til A og B. "
   ]
  },
  {
   "cell_type": "code",
   "execution_count": 12,
   "metadata": {},
   "outputs": [
    {
     "data": {
      "text/latex": [
       "$\\displaystyle \\left[\\begin{matrix}0 & 0.5 & 0 & 0.5\\\\0 & 0 & 0 & 0.5\\\\1 & 0.5 & 0 & 0\\\\0 & 0 & 1 & 0\\end{matrix}\\right]$"
      ],
      "text/plain": [
       "⎡0  0.5  0  0.5⎤\n",
       "⎢              ⎥\n",
       "⎢0   0   0  0.5⎥\n",
       "⎢              ⎥\n",
       "⎢1  0.5  0   0 ⎥\n",
       "⎢              ⎥\n",
       "⎣0   0   1   0 ⎦"
      ]
     },
     "execution_count": 12,
     "metadata": {},
     "output_type": "execute_result"
    }
   ],
   "source": [
    "L = Matrix([[0,1/2,0,1/2],[0,0,0,1/2],[1,1/2,0,0],[0,0,1,0]])\n",
    "L"
   ]
  },
  {
   "cell_type": "markdown",
   "metadata": {},
   "source": [
    "Her kan vi se at L ikke opfylder kravene til en Markov matrix da ikke alle rækkerne summeret ikke giver 1, for eksempel række 3. Nu vil vi transponere matricen: "
   ]
  },
  {
   "cell_type": "code",
   "execution_count": 13,
   "metadata": {},
   "outputs": [
    {
     "data": {
      "text/latex": [
       "$\\displaystyle \\left[\\begin{matrix}0 & 0 & 1 & 0\\\\0.5 & 0 & 0.5 & 0\\\\0 & 0 & 0 & 1\\\\0.5 & 0.5 & 0 & 0\\end{matrix}\\right]$"
      ],
      "text/plain": [
       "⎡ 0    0    1   0⎤\n",
       "⎢                ⎥\n",
       "⎢0.5   0   0.5  0⎥\n",
       "⎢                ⎥\n",
       "⎢ 0    0    0   1⎥\n",
       "⎢                ⎥\n",
       "⎣0.5  0.5   0   0⎦"
      ]
     },
     "execution_count": 13,
     "metadata": {},
     "output_type": "execute_result"
    }
   ],
   "source": [
    "L.T"
   ]
  },
  {
   "cell_type": "markdown",
   "metadata": {},
   "source": [
    "Nu kan vi konkludere at L^2 er en Markov matrix da alle rækkerne summeret nu giver 1. "
   ]
  },
  {
   "cell_type": "markdown",
   "metadata": {},
   "source": [
    "## Opgave 20"
   ]
  },
  {
   "cell_type": "markdown",
   "metadata": {},
   "source": [
    "Vis, at hvis A er en Markov matrix så er Ae = e, det vil sige, at (1,e) er et egenpar for A."
   ]
  },
  {
   "cell_type": "markdown",
   "metadata": {},
   "source": [
    "Et egenpar skal opfylde følgende: A*v=lambda*v, hvor v er egenvektoren til A, A er en markov matrix og lambda er egenværdierne til A, for at vise at det er sandt, benytter vi et eksempel med identitetsmatricen, som markov matricen:"
   ]
  },
  {
   "cell_type": "code",
   "execution_count": 14,
   "metadata": {},
   "outputs": [
    {
     "data": {
      "text/latex": [
       "$\\displaystyle \\left[\\begin{matrix}1 & 0\\\\0 & 1\\end{matrix}\\right]$"
      ],
      "text/plain": [
       "⎡1  0⎤\n",
       "⎢    ⎥\n",
       "⎣0  1⎦"
      ]
     },
     "execution_count": 14,
     "metadata": {},
     "output_type": "execute_result"
    }
   ],
   "source": [
    "A = Matrix([[1,0],[0,1]])\n",
    "A"
   ]
  },
  {
   "cell_type": "markdown",
   "metadata": {},
   "source": [
    "Vi kan se at egenærdien er 1, hvilket den altid vil blive i en markov matrix, fordi alle rækkerne summeret bliver 1, da det er en diagonalmatrix, nu forsøger vi at finde en vektor der opfylder at Ae = e"
   ]
  },
  {
   "cell_type": "code",
   "execution_count": 8,
   "metadata": {},
   "outputs": [
    {
     "data": {
      "text/latex": [
       "$\\displaystyle \\left[\\begin{matrix}1\\\\e\\end{matrix}\\right]$"
      ],
      "text/plain": [
       "⎡1⎤\n",
       "⎢ ⎥\n",
       "⎣ℯ⎦"
      ]
     },
     "execution_count": 8,
     "metadata": {},
     "output_type": "execute_result"
    }
   ],
   "source": [
    "v = Matrix([1,exp(1)])\n",
    "v"
   ]
  },
  {
   "cell_type": "code",
   "execution_count": 15,
   "metadata": {},
   "outputs": [
    {
     "data": {
      "text/latex": [
       "$\\displaystyle \\left[\\begin{matrix}1\\\\e\\end{matrix}\\right]$"
      ],
      "text/plain": [
       "⎡1⎤\n",
       "⎢ ⎥\n",
       "⎣ℯ⎦"
      ]
     },
     "execution_count": 15,
     "metadata": {},
     "output_type": "execute_result"
    }
   ],
   "source": [
    "A*v"
   ]
  },
  {
   "cell_type": "markdown",
   "metadata": {},
   "source": [
    "Da A*v = (1,e) er (1,e)  et egenpar for A"
   ]
  },
  {
   "cell_type": "markdown",
   "metadata": {},
   "source": [
    "## Opgave 21"
   ]
  },
  {
   "cell_type": "markdown",
   "metadata": {},
   "source": [
    "Bevis at en matrix A og dens transponerede matrix A^T har de samme egenværdier. Vis derefter at de ikke nødvendigvis har de samme egenvektorer (det vil sige: giv et eksempel på en matrix A, hvor A og A^T har forskellige egenvektorrum)."
   ]
  },
  {
   "cell_type": "code",
   "execution_count": 16,
   "metadata": {},
   "outputs": [
    {
     "data": {
      "image/png": "[encoded data removed]",
      "text/latex": [
       "$\\displaystyle \\left\\{ -0.5 : 1, \\  1.0 : 2\\right\\}$"
      ],
      "text/plain": [
       "{-0.5: 1, 1.0: 2}"
      ]
     },
     "execution_count": 16,
     "metadata": {},
     "output_type": "execute_result"
    }
   ],
   "source": [
    "B = Matrix([[0,1,0],[1/2,1/2,0],[0,0,1]])\n",
    "B.eigenvals()"
   ]
  },
  {
   "cell_type": "code",
   "execution_count": 17,
   "metadata": {},
   "outputs": [
    {
     "data": {
      "text/latex": [
       "$\\displaystyle \\left[ \\left( -0.5, \\  1, \\  \\left[ \\left[\\begin{matrix}-0.894427190999916\\\\0.447213595499958\\\\0\\end{matrix}\\right]\\right]\\right), \\  \\left( 1.0, \\  1, \\  \\left[ \\left[\\begin{matrix}-0.74535599249993\\\\-0.74535599249993\\\\0\\end{matrix}\\right]\\right]\\right), \\  \\left( 1.0, \\  1, \\  \\left[ \\left[\\begin{matrix}0\\\\0\\\\1.0\\end{matrix}\\right]\\right]\\right)\\right]$"
      ],
      "text/plain": [
       "⎡⎛         ⎡⎡-0.894427190999916⎤⎤⎞  ⎛        ⎡⎡-0.74535599249993⎤⎤⎞  ⎛         ↪\n",
       "⎢⎜         ⎢⎢                  ⎥⎥⎟  ⎜        ⎢⎢                 ⎥⎥⎟  ⎜         ↪\n",
       "⎢⎜-0.5, 1, ⎢⎢0.447213595499958 ⎥⎥⎟, ⎜1.0, 1, ⎢⎢-0.74535599249993⎥⎥⎟, ⎜1.0, 1,  ↪\n",
       "⎢⎜         ⎢⎢                  ⎥⎥⎟  ⎜        ⎢⎢                 ⎥⎥⎟  ⎜         ↪\n",
       "⎣⎝         ⎣⎣        0         ⎦⎦⎠  ⎝        ⎣⎣        0        ⎦⎦⎠  ⎝         ↪\n",
       "\n",
       "↪ ⎡⎡ 0 ⎤⎤⎞⎤\n",
       "↪ ⎢⎢   ⎥⎥⎟⎥\n",
       "↪ ⎢⎢ 0 ⎥⎥⎟⎥\n",
       "↪ ⎢⎢   ⎥⎥⎟⎥\n",
       "↪ ⎣⎣1.0⎦⎦⎠⎦"
      ]
     },
     "execution_count": 17,
     "metadata": {},
     "output_type": "execute_result"
    }
   ],
   "source": [
    "B.eigenvects()"
   ]
  },
  {
   "cell_type": "code",
   "execution_count": 18,
   "metadata": {},
   "outputs": [
    {
     "data": {
      "text/latex": [
       "$\\displaystyle \\left[\\begin{matrix}0 & 0.5 & 0\\\\1 & 0.5 & 0\\\\0 & 0 & 1\\end{matrix}\\right]$"
      ],
      "text/plain": [
       "⎡0  0.5  0⎤\n",
       "⎢         ⎥\n",
       "⎢1  0.5  0⎥\n",
       "⎢         ⎥\n",
       "⎣0   0   1⎦"
      ]
     },
     "execution_count": 18,
     "metadata": {},
     "output_type": "execute_result"
    }
   ],
   "source": [
    "B1 = B.T\n",
    "B1"
   ]
  },
  {
   "cell_type": "code",
   "execution_count": 19,
   "metadata": {},
   "outputs": [
    {
     "data": {
      "image/png": "[encoded data removed]",
      "text/latex": [
       "$\\displaystyle \\left\\{ -0.5 : 1, \\  1.0 : 2\\right\\}$"
      ],
      "text/plain": [
       "{-0.5: 1, 1.0: 2}"
      ]
     },
     "execution_count": 19,
     "metadata": {},
     "output_type": "execute_result"
    }
   ],
   "source": [
    "B1.eigenvals()"
   ]
  },
  {
   "cell_type": "code",
   "execution_count": 20,
   "metadata": {},
   "outputs": [
    {
     "data": {
      "text/latex": [
       "$\\displaystyle \\left[ \\left( -0.5, \\  1, \\  \\left[ \\left[\\begin{matrix}-0.707106781186548\\\\0.707106781186548\\\\0\\end{matrix}\\right]\\right]\\right), \\  \\left( 1.0, \\  1, \\  \\left[ \\left[\\begin{matrix}-0.471404520791032\\\\-0.942809041582063\\\\0\\end{matrix}\\right]\\right]\\right), \\  \\left( 1.0, \\  1, \\  \\left[ \\left[\\begin{matrix}0\\\\0\\\\1.0\\end{matrix}\\right]\\right]\\right)\\right]$"
      ],
      "text/plain": [
       "⎡⎛         ⎡⎡-0.707106781186548⎤⎤⎞  ⎛        ⎡⎡-0.471404520791032⎤⎤⎞  ⎛        ↪\n",
       "⎢⎜         ⎢⎢                  ⎥⎥⎟  ⎜        ⎢⎢                  ⎥⎥⎟  ⎜        ↪\n",
       "⎢⎜-0.5, 1, ⎢⎢0.707106781186548 ⎥⎥⎟, ⎜1.0, 1, ⎢⎢-0.942809041582063⎥⎥⎟, ⎜1.0, 1, ↪\n",
       "⎢⎜         ⎢⎢                  ⎥⎥⎟  ⎜        ⎢⎢                  ⎥⎥⎟  ⎜        ↪\n",
       "⎣⎝         ⎣⎣        0         ⎦⎦⎠  ⎝        ⎣⎣        0         ⎦⎦⎠  ⎝        ↪\n",
       "\n",
       "↪  ⎡⎡ 0 ⎤⎤⎞⎤\n",
       "↪  ⎢⎢   ⎥⎥⎟⎥\n",
       "↪  ⎢⎢ 0 ⎥⎥⎟⎥\n",
       "↪  ⎢⎢   ⎥⎥⎟⎥\n",
       "↪  ⎣⎣1.0⎦⎦⎠⎦"
      ]
     },
     "execution_count": 20,
     "metadata": {},
     "output_type": "execute_result"
    }
   ],
   "source": [
    "B1.eigenvects()"
   ]
  },
  {
   "cell_type": "markdown",
   "metadata": {},
   "source": [
    "Nu har vi vist at egenværdierne er de samme for B og B1, men at egenvektorerne er forskellige. "
   ]
  },
  {
   "cell_type": "markdown",
   "metadata": {},
   "source": [
    "## Opgave 22"
   ]
  },
  {
   "cell_type": "markdown",
   "metadata": {},
   "source": [
    "I det første led har vi $$((1-d)/n)*E_n$$, som bliver til en matrix hvor hvert element er $$(1-d)/n$$, fordi $E_n$ bare er en nxn matrix med 1-taller. Hvis vi ganger den matrix igennem med n får vi hvert element til 1-d. Det sidste led har vi d*A, hvor vi ved at A er en marko matrix, derfor giver alle rækkerne 1, så ender vi med at få d*1 på hver linje. Herefter kan vi se at vi får $1-d+d = 1$"
   ]
  },
  {
   "cell_type": "code",
   "execution_count": 21,
   "metadata": {},
   "outputs": [
    {
     "data": {
      "image/png": "[encoded data removed]",
      "text/latex": [
       "$\\displaystyle x + 1$"
      ],
      "text/plain": [
       "x + 1"
      ]
     },
     "execution_count": 21,
     "metadata": {},
     "output_type": "execute_result"
    }
   ],
   "source": [
    "x = symbols ('x')\n",
    "(x/2)*2 + 1"
   ]
  },
  {
   "cell_type": "code",
   "execution_count": 25,
   "metadata": {},
   "outputs": [
    {
     "data": {
      "text/latex": [
       "$\\displaystyle \\left[\\begin{matrix}0.2 & 0 & 0\\\\0 & 0.2 & 0\\\\0.2 & 0 & 0\\end{matrix}\\right]$"
      ],
      "text/plain": [
       "⎡0.2   0   0⎤\n",
       "⎢           ⎥\n",
       "⎢ 0   0.2  0⎥\n",
       "⎢           ⎥\n",
       "⎣0.2   0   0⎦"
      ]
     },
     "execution_count": 25,
     "metadata": {},
     "output_type": "execute_result"
    }
   ],
   "source": [
    "C = Matrix([[0.2,0,0],[0,0.2,0],[0.2,0,0]])\n",
    "C"
   ]
  },
  {
   "cell_type": "code",
   "execution_count": 23,
   "metadata": {},
   "outputs": [],
   "source": [
    "D = Matrix([[0.2666666,0.2666666,0.2666666],[0.2666666,0.2666666,0.2666666],[0.2666666,0.2666666,0.2666666]])"
   ]
  },
  {
   "cell_type": "code",
   "execution_count": 24,
   "metadata": {},
   "outputs": [
    {
     "data": {
      "text/latex": [
       "$\\displaystyle \\left[\\begin{matrix}0.4666666 & 0.2666666 & 0.2666666\\\\0.2666666 & 0.4666666 & 0.2666666\\\\0.4666666 & 0.2666666 & 0.2666666\\end{matrix}\\right]$"
      ],
      "text/plain": [
       "⎡0.4666666  0.2666666  0.2666666⎤\n",
       "⎢                               ⎥\n",
       "⎢0.2666666  0.4666666  0.2666666⎥\n",
       "⎢                               ⎥\n",
       "⎣0.4666666  0.2666666  0.2666666⎦"
      ]
     },
     "execution_count": 24,
     "metadata": {},
     "output_type": "execute_result"
    }
   ],
   "source": [
    "C+D"
   ]
  },
  {
   "cell_type": "markdown",
   "metadata": {},
   "source": [
    "## Opgave 23"
   ]
  },
  {
   "cell_type": "code",
   "execution_count": 30,
   "metadata": {},
   "outputs": [
    {
     "data": {
      "text/latex": [
       "$\\displaystyle \\left[\\begin{matrix}1 & 0\\\\0.5 & 0.5\\end{matrix}\\right]$"
      ],
      "text/plain": [
       "⎡ 1    0 ⎤\n",
       "⎢        ⎥\n",
       "⎣0.5  0.5⎦"
      ]
     },
     "execution_count": 30,
     "metadata": {},
     "output_type": "execute_result"
    }
   ],
   "source": [
    "A = Matrix([[1,(0)],[(1/2),(1/2)]])\n",
    "A"
   ]
  },
  {
   "cell_type": "code",
   "execution_count": 32,
   "metadata": {},
   "outputs": [
    {
     "data": {
      "text/latex": [
       "$\\displaystyle \\left[\\begin{matrix}0 & 1\\\\1 & 0\\end{matrix}\\right]$"
      ],
      "text/plain": [
       "⎡0  1⎤\n",
       "⎢    ⎥\n",
       "⎣1  0⎦"
      ]
     },
     "execution_count": 32,
     "metadata": {},
     "output_type": "execute_result"
    }
   ],
   "source": [
    "B = Matrix([[0,1],[1,0]])\n",
    "B"
   ]
  },
  {
   "cell_type": "code",
   "execution_count": 39,
   "metadata": {},
   "outputs": [
    {
     "data": {
      "text/latex": [
       "$\\displaystyle \\left[\\begin{matrix}0.1 & 0.9\\\\0.95 & 0.05\\end{matrix}\\right]$"
      ],
      "text/plain": [
       "⎡0.1   0.9 ⎤\n",
       "⎢          ⎥\n",
       "⎣0.95  0.05⎦"
      ]
     },
     "execution_count": 39,
     "metadata": {},
     "output_type": "execute_result"
    }
   ],
   "source": [
    "d = 0.1\n",
    "G = d*A+(1-d)*B\n",
    "G"
   ]
  },
  {
   "cell_type": "code",
   "execution_count": 41,
   "metadata": {},
   "outputs": [
    {
     "data": {
      "image/png": "[encoded data removed]",
      "text/latex": [
       "$\\displaystyle \\left\\{ -0.85 : 1, \\  1.0 : 1\\right\\}$"
      ],
      "text/plain": [
       "{-0.85: 1, 1.0: 1}"
      ]
     },
     "execution_count": 41,
     "metadata": {},
     "output_type": "execute_result"
    }
   ],
   "source": [
    "G.eigenvals()"
   ]
  },
  {
   "cell_type": "code",
   "execution_count": 42,
   "metadata": {},
   "outputs": [
    {
     "data": {
      "text/latex": [
       "$\\displaystyle \\left[\\begin{matrix}0.5 & 0.5\\\\0.75 & 0.25\\end{matrix}\\right]$"
      ],
      "text/plain": [
       "⎡0.5   0.5 ⎤\n",
       "⎢          ⎥\n",
       "⎣0.75  0.25⎦"
      ]
     },
     "execution_count": 42,
     "metadata": {},
     "output_type": "execute_result"
    }
   ],
   "source": [
    "d = 0.5\n",
    "G = d*A+(1-d)*B\n",
    "G"
   ]
  },
  {
   "cell_type": "code",
   "execution_count": 43,
   "metadata": {},
   "outputs": [
    {
     "data": {
      "image/png": "[encoded data removed]",
      "text/latex": [
       "$\\displaystyle \\left\\{ -0.25 : 1, \\  1.0 : 1\\right\\}$"
      ],
      "text/plain": [
       "{-0.25: 1, 1.0: 1}"
      ]
     },
     "execution_count": 43,
     "metadata": {},
     "output_type": "execute_result"
    }
   ],
   "source": [
    "G.eigenvals()"
   ]
  },
  {
   "cell_type": "code",
   "execution_count": 44,
   "metadata": {},
   "outputs": [
    {
     "data": {
      "text/latex": [
       "$\\displaystyle \\left[\\begin{matrix}0.9 & 0.1\\\\0.55 & 0.45\\end{matrix}\\right]$"
      ],
      "text/plain": [
       "⎡0.9   0.1 ⎤\n",
       "⎢          ⎥\n",
       "⎣0.55  0.45⎦"
      ]
     },
     "execution_count": 44,
     "metadata": {},
     "output_type": "execute_result"
    }
   ],
   "source": [
    "d = 0.9\n",
    "G = d*A+(1-d)*B\n",
    "G"
   ]
  },
  {
   "cell_type": "code",
   "execution_count": 45,
   "metadata": {},
   "outputs": [
    {
     "data": {
      "image/png": "[encoded data removed]",
      "text/latex": [
       "$\\displaystyle \\left\\{ 0.35 : 1, \\  1.0 : 1\\right\\}$"
      ],
      "text/plain": [
       "{0.35: 1, 1.0: 1}"
      ]
     },
     "execution_count": 45,
     "metadata": {},
     "output_type": "execute_result"
    }
   ],
   "source": [
    "G.eigenvals()"
   ]
  },
  {
   "cell_type": "code",
   "execution_count": 46,
   "metadata": {},
   "outputs": [
    {
     "data": {
      "text/latex": [
       "$\\displaystyle \\left[\\begin{matrix}0.7 & 0.3\\\\0.65 & 0.35\\end{matrix}\\right]$"
      ],
      "text/plain": [
       "⎡0.7   0.3 ⎤\n",
       "⎢          ⎥\n",
       "⎣0.65  0.35⎦"
      ]
     },
     "execution_count": 46,
     "metadata": {},
     "output_type": "execute_result"
    }
   ],
   "source": [
    "d = 0.7\n",
    "G = d*A+(1-d)*B\n",
    "G"
   ]
  },
  {
   "cell_type": "code",
   "execution_count": 47,
   "metadata": {},
   "outputs": [
    {
     "data": {
      "image/png": "[encoded data removed]",
      "text/latex": [
       "$\\displaystyle \\left\\{ 0.0499999999999999 : 1, \\  1.0 : 1\\right\\}$"
      ],
      "text/plain": [
       "{0.0499999999999999: 1, 1.0: 1}"
      ]
     },
     "execution_count": 47,
     "metadata": {},
     "output_type": "execute_result"
    }
   ],
   "source": [
    "G.eigenvals()"
   ]
  },
  {
   "cell_type": "code",
   "execution_count": 49,
   "metadata": {},
   "outputs": [
    {
     "data": {
      "text/latex": [
       "$\\displaystyle \\left[\\begin{matrix}1.0 \\cdot 10^{-8} & 0.99999999\\\\0.999999995 & 5.0 \\cdot 10^{-9}\\end{matrix}\\right]$"
      ],
      "text/plain": [
       "⎡  1.0e-8     0.99999999⎤\n",
       "⎢                       ⎥\n",
       "⎣0.999999995    5.0e-9  ⎦"
      ]
     },
     "execution_count": 49,
     "metadata": {},
     "output_type": "execute_result"
    }
   ],
   "source": [
    "d = 0.00000001\n",
    "G = d*A+(1-d)*B\n",
    "G"
   ]
  },
  {
   "cell_type": "code",
   "execution_count": 50,
   "metadata": {},
   "outputs": [
    {
     "data": {
      "image/png": "[encoded data removed]",
      "text/latex": [
       "$\\displaystyle \\left\\{ -0.999999985 : 1, \\  1.0 : 1\\right\\}$"
      ],
      "text/plain": [
       "{-0.999999985: 1, 1.0: 1}"
      ]
     },
     "execution_count": 50,
     "metadata": {},
     "output_type": "execute_result"
    }
   ],
   "source": [
    "G.eigenvals()"
   ]
  },
  {
   "cell_type": "code",
   "execution_count": 53,
   "metadata": {},
   "outputs": [
    {
     "data": {
      "text/latex": [
       "$\\displaystyle \\left[\\begin{matrix}0.999999999999 & 9.99977878279878 \\cdot 10^{-13}\\\\0.5000000000005 & 0.4999999999995\\end{matrix}\\right]$"
      ],
      "text/plain": [
       "⎡0.999999999999   9.99977878279878e-13⎤\n",
       "⎢                                     ⎥\n",
       "⎣0.5000000000005    0.4999999999995   ⎦"
      ]
     },
     "execution_count": 53,
     "metadata": {},
     "output_type": "execute_result"
    }
   ],
   "source": [
    "d = 0.999999999999\n",
    "G = d*A+(1-d)*B\n",
    "G"
   ]
  },
  {
   "cell_type": "code",
   "execution_count": 54,
   "metadata": {},
   "outputs": [
    {
     "data": {
      "image/png": "[encoded data removed]",
      "text/latex": [
       "$\\displaystyle \\left\\{ 0.4999999999985 : 1, \\  1.0 : 1\\right\\}$"
      ],
      "text/plain": [
       "{0.4999999999985: 1, 1.0: 1}"
      ]
     },
     "execution_count": 54,
     "metadata": {},
     "output_type": "execute_result"
    }
   ],
   "source": [
    "G.eigenvals()"
   ]
  },
  {
   "cell_type": "code",
   "execution_count": null,
   "metadata": {},
   "outputs": [],
   "source": []
  }
 ],
 "metadata": {
  "kernelspec": {
   "display_name": "base",
   "language": "python",
   "name": "python3"
  },
  "language_info": {
   "codemirror_mode": {
    "name": "ipython",
    "version": 3
   },
   "file_extension": ".py",
   "mimetype": "text/x-python",
   "name": "python",
   "nbconvert_exporter": "python",
   "pygments_lexer": "ipython3",
   "version": "3.11.12"
  }
 },
 "nbformat": 4,
 "nbformat_minor": 2
}
