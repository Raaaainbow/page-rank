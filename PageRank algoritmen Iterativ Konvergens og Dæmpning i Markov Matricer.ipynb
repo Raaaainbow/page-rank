{
 "cells": [
  {
   "cell_type": "code",
   "execution_count": 24,
   "metadata": {},
   "outputs": [],
   "source": [
    "import cmath\n",
    "import matplotlib\n",
    "import sympy as sp\n",
    "from sympy import *\n",
    "init_printing()"
   ]
  },
  {
   "cell_type": "markdown",
   "metadata": {},
   "source": [
    "## Opgave 26"
   ]
  },
  {
   "cell_type": "markdown",
   "metadata": {},
   "source": [
    "Beregn produktet af følgende Markov matricer. Verificer at den resulterende matrix ligeledes er en Markov matrix?\n",
    "$$A = Matrix([[0.2,0.5,0.3],[0.4,0.4,0.2],[0.1,0.7,0.2]])$$\n",
    "$$B = Matrix([[0.5,0.3,0.2],[0.2,0.5,0.3],[0.3,0.2,0.5]])$$"
   ]
  },
  {
   "cell_type": "code",
   "execution_count": 25,
   "metadata": {},
   "outputs": [
    {
     "data": {
      "text/latex": [
       "$\\displaystyle \\left( \\left[\\begin{matrix}0.2 & 0.5 & 0.3\\\\0.4 & 0.4 & 0.2\\\\0.1 & 0.7 & 0.2\\end{matrix}\\right], \\  \\left[\\begin{matrix}0.5 & 0.3 & 0.2\\\\0.2 & 0.5 & 0.3\\\\0.3 & 0.2 & 0.5\\end{matrix}\\right]\\right)$"
      ],
      "text/plain": [
       "⎛⎡0.2  0.5  0.3⎤  ⎡0.5  0.3  0.2⎤⎞\n",
       "⎜⎢             ⎥  ⎢             ⎥⎟\n",
       "⎜⎢0.4  0.4  0.2⎥, ⎢0.2  0.5  0.3⎥⎟\n",
       "⎜⎢             ⎥  ⎢             ⎥⎟\n",
       "⎝⎣0.1  0.7  0.2⎦  ⎣0.3  0.2  0.5⎦⎠"
      ]
     },
     "execution_count": 25,
     "metadata": {},
     "output_type": "execute_result"
    }
   ],
   "source": [
    "A = Matrix([[0.2,0.5,0.3],[0.4,0.4,0.2],[0.1,0.7,0.2]])\n",
    "B = Matrix([[0.5,0.3,0.2],[0.2,0.5,0.3],[0.3,0.2,0.5]])\n",
    "A, B"
   ]
  },
  {
   "cell_type": "code",
   "execution_count": 26,
   "metadata": {},
   "outputs": [
    {
     "data": {
      "text/latex": [
       "$\\displaystyle \\left[\\begin{matrix}0.29 & 0.37 & 0.34\\\\0.34 & 0.36 & 0.3\\\\0.25 & 0.42 & 0.33\\end{matrix}\\right]$"
      ],
      "text/plain": [
       "⎡0.29  0.37  0.34⎤\n",
       "⎢                ⎥\n",
       "⎢0.34  0.36  0.3 ⎥\n",
       "⎢                ⎥\n",
       "⎣0.25  0.42  0.33⎦"
      ]
     },
     "execution_count": 26,
     "metadata": {},
     "output_type": "execute_result"
    }
   ],
   "source": [
    "A*B"
   ]
  },
  {
   "cell_type": "code",
   "execution_count": 27,
   "metadata": {},
   "outputs": [
    {
     "data": {
      "image/png": "[encoded data removed]",
      "text/latex": [
       "$\\displaystyle 1.0$"
      ],
      "text/plain": [
       "1.0"
      ]
     },
     "execution_count": 27,
     "metadata": {},
     "output_type": "execute_result"
    }
   ],
   "source": [
    "0.29+0.37+0.34"
   ]
  },
  {
   "cell_type": "code",
   "execution_count": 28,
   "metadata": {},
   "outputs": [
    {
     "data": {
      "image/png": "[encoded data removed]",
      "text/latex": [
       "$\\displaystyle 1.0$"
      ],
      "text/plain": [
       "1.0"
      ]
     },
     "execution_count": 28,
     "metadata": {},
     "output_type": "execute_result"
    }
   ],
   "source": [
    "0.34+0.36+0.3"
   ]
  },
  {
   "cell_type": "code",
   "execution_count": 29,
   "metadata": {},
   "outputs": [
    {
     "data": {
      "image/png": "[encoded data removed]",
      "text/latex": [
       "$\\displaystyle 1.0$"
      ],
      "text/plain": [
       "1.0"
      ]
     },
     "execution_count": 29,
     "metadata": {},
     "output_type": "execute_result"
    }
   ],
   "source": [
    "0.25+0.42+0.33"
   ]
  },
  {
   "cell_type": "markdown",
   "metadata": {},
   "source": [
    "## Opgave 27"
   ]
  },
  {
   "cell_type": "markdown",
   "metadata": {},
   "source": [
    "Vis at produktet af to Markov matricer er en Markov matrix."
   ]
  },
  {
   "cell_type": "markdown",
   "metadata": {},
   "source": [
    "Grunden til at produktet af to markov matricer altid vil give en markov matrix skyldes blandt andet at alle tal i en markov matrix er positive, hvilket vil sige at produktet også kun vil få positive værdier, og den anden grund er at summen af rækkerne i en markov matrix altid skal give en, for at det er en markov matrix, derfor når man ganger dem sammen, giver summen af to markov matricer en matrix, hvor rækkernes sum bliver 1"
   ]
  },
  {
   "cell_type": "markdown",
   "metadata": {},
   "source": [
    "$$ C_{ij} = ∑A_{ik} * B_{kj} >= 0 $$"
   ]
  },
  {
   "cell_type": "markdown",
   "metadata": {},
   "source": [
    "$$ ∑C_{ij} = ∑∑A_{ik} * B_{kj} $$"
   ]
  },
  {
   "cell_type": "markdown",
   "metadata": {},
   "source": [
    "$$ = ∑A_{ik} * ∑B_{kj} $$"
   ]
  },
  {
   "cell_type": "markdown",
   "metadata": {},
   "source": [
    "$$ ∑B_{kj} = 1 $$"
   ]
  },
  {
   "cell_type": "markdown",
   "metadata": {},
   "source": [
    "$$ ∑C_{ij} = ∑A_{ik}*1 = ∑A_{ik} = 1 $$"
   ]
  },
  {
   "cell_type": "markdown",
   "metadata": {},
   "source": [
    "## Opgave 28"
   ]
  },
  {
   "cell_type": "markdown",
   "metadata": {},
   "source": [
    "Konkludér at hvis A er en Markov matrix, så er $A^k$ også en Markov matrix for alle  k er en mængde af N\n",
    "."
   ]
  },
  {
   "cell_type": "markdown",
   "metadata": {},
   "source": [
    "$A^k$ er A gange A gange A... k gange"
   ]
  },
  {
   "cell_type": "markdown",
   "metadata": {},
   "source": [
    "Som tideligere nævnt vil produktet af to markov matricer ganget sammen blive en markov matrix, det betyder at man ganger uendeligt mange markov matricer sammen, og det vil altid give en markov matrix."
   ]
  },
  {
   "cell_type": "markdown",
   "metadata": {},
   "source": [
    "## Opgave 29"
   ]
  },
  {
   "cell_type": "markdown",
   "metadata": {},
   "source": [
    "Lad A være en nxn Markov matrix. Vis at $rad_A = 1$\n",
    "."
   ]
  },
  {
   "cell_type": "markdown",
   "metadata": {},
   "source": [
    "Informeret i opgaven er:  ingen egenværdier af en markov matrix har absolutværdi større end 1. Hvilket vil sige at den spektrale radius $rad_A$ af en Markov matrix A er lig 1"
   ]
  },
  {
   "cell_type": "markdown",
   "metadata": {},
   "source": [
    "Note: den spektrale radius er den største absolutte værdi af alle egenværdierne til en matrix (taget fra chatGPT)"
   ]
  },
  {
   "cell_type": "markdown",
   "metadata": {},
   "source": [
    "Hint: Antag at A har en egenværdi lambda med den absolutte værdi af lambda større end 1. Lad v være den tilhørende egenvektor. For en Markov matrix er summen af hver række netop 1, altså kan Av = lambda*v ses som n (forskellige) vægtede gennemsnit af v1, v2,...,vn. Hvor stor kan absolutværdien af et vægtet gennemsnit af n elementer maksimalt være?"
   ]
  },
  {
   "cell_type": "markdown",
   "metadata": {},
   "source": [
    "Egenværdiproblemet"
   ]
  },
  {
   "cell_type": "markdown",
   "metadata": {},
   "source": [
    "Vi benytter egenværdiproblemet: "
   ]
  },
  {
   "cell_type": "markdown",
   "metadata": {},
   "source": [
    "A*v = λ * v"
   ]
  },
  {
   "cell_type": "markdown",
   "metadata": {},
   "source": [
    "Vi kalder max v for v_k"
   ]
  },
  {
   "cell_type": "markdown",
   "metadata": {},
   "source": [
    "Herfra kan vi se at max(A*v_k) <= v_k, fordi at når man finder produktet af en matrix og vektor giver det en vektor og vi har defineret max af vektorens værdier til at være v_k. Så kan vi se: (A*v)_k <= v_k. "
   ]
  },
  {
   "cell_type": "markdown",
   "metadata": {},
   "source": [
    "Det kan indsættes i egenværdi problemet nu: "
   ]
  },
  {
   "cell_type": "markdown",
   "metadata": {},
   "source": [
    "| (A * v)_k | = | λ * v_k | = | λ | * | v_k | <= | v_k |"
   ]
  },
  {
   "cell_type": "markdown",
   "metadata": {},
   "source": [
    "Her kan vi se at egenværdiern højest skal være 1 for at venstresiden aldrig bliver højere end v_k. "
   ]
  },
  {
   "cell_type": "markdown",
   "metadata": {},
   "source": [
    "## Opgave 30"
   ]
  },
  {
   "cell_type": "code",
   "execution_count": 57,
   "metadata": {},
   "outputs": [
    {
     "data": {
      "image/png": "[encoded data removed]",
      "text/latex": [
       "$\\displaystyle \\left\\{ 1 : 1, \\  - \\frac{1}{2} - \\frac{\\sqrt{3} i}{2} : 1, \\  - \\frac{1}{2} + \\frac{\\sqrt{3} i}{2} : 1\\right\\}$"
      ],
      "text/plain": [
       "⎧        1   √3⋅ⅈ       1   √3⋅ⅈ   ⎫\n",
       "⎨1: 1, - ─ - ────: 1, - ─ + ────: 1⎬\n",
       "⎩        2    2         2    2     ⎭"
      ]
     },
     "execution_count": 57,
     "metadata": {},
     "output_type": "execute_result"
    }
   ],
   "source": [
    "A = Matrix([[0,1,0],[0,0,1],[1,0,0]])\n",
    "A.eigenvals() # egenværdierne findes"
   ]
  },
  {
   "cell_type": "markdown",
   "metadata": {},
   "source": [
    "Modulus af egenværdierne findes ved at tage den absolutte værdi af værdien."
   ]
  },
  {
   "cell_type": "code",
   "execution_count": 31,
   "metadata": {},
   "outputs": [
    {
     "name": "stdout",
     "output_type": "stream",
     "text": [
      "1\n",
      "1.00000000000000\n",
      "1.00000000000000\n"
     ]
    }
   ],
   "source": [
    "print(abs(1))\n",
    "print(abs((-1/2)-(sqrt(3)*I/2)))\n",
    "print(abs((-1/2)+(sqrt(3)*I/2)))"
   ]
  },
  {
   "cell_type": "code",
   "execution_count": 32,
   "metadata": {},
   "outputs": [
    {
     "data": {
      "text/latex": [
       "$\\displaystyle \\left[\\begin{matrix}0 & 0 & 1\\\\1 & 0 & 0\\\\0 & 1 & 0\\end{matrix}\\right]$"
      ],
      "text/plain": [
       "⎡0  0  1⎤\n",
       "⎢       ⎥\n",
       "⎢1  0  0⎥\n",
       "⎢       ⎥\n",
       "⎣0  1  0⎦"
      ]
     },
     "execution_count": 32,
     "metadata": {},
     "output_type": "execute_result"
    }
   ],
   "source": [
    "A*A"
   ]
  },
  {
   "cell_type": "code",
   "execution_count": 33,
   "metadata": {},
   "outputs": [
    {
     "data": {
      "text/latex": [
       "$\\displaystyle \\left[\\begin{matrix}1 & 0 & 0\\\\0 & 1 & 0\\\\0 & 0 & 1\\end{matrix}\\right]$"
      ],
      "text/plain": [
       "⎡1  0  0⎤\n",
       "⎢       ⎥\n",
       "⎢0  1  0⎥\n",
       "⎢       ⎥\n",
       "⎣0  0  1⎦"
      ]
     },
     "execution_count": 33,
     "metadata": {},
     "output_type": "execute_result"
    }
   ],
   "source": [
    "A*A*A"
   ]
  },
  {
   "cell_type": "markdown",
   "metadata": {},
   "source": [
    "Nu forsøger vi at se på de næste $A^k$, for at se hvordan det udvikler sig, sagt på anden vis, om der er et mynster:"
   ]
  },
  {
   "cell_type": "code",
   "execution_count": 34,
   "metadata": {},
   "outputs": [
    {
     "data": {
      "text/latex": [
       "$\\displaystyle \\left[\\begin{matrix}0 & 1 & 0\\\\0 & 0 & 1\\\\1 & 0 & 0\\end{matrix}\\right]$"
      ],
      "text/plain": [
       "⎡0  1  0⎤\n",
       "⎢       ⎥\n",
       "⎢0  0  1⎥\n",
       "⎢       ⎥\n",
       "⎣1  0  0⎦"
      ]
     },
     "execution_count": 34,
     "metadata": {},
     "output_type": "execute_result"
    }
   ],
   "source": [
    "A*A*A*A"
   ]
  },
  {
   "cell_type": "code",
   "execution_count": 35,
   "metadata": {},
   "outputs": [
    {
     "data": {
      "text/latex": [
       "$\\displaystyle \\left[\\begin{matrix}0 & 0 & 1\\\\1 & 0 & 0\\\\0 & 1 & 0\\end{matrix}\\right]$"
      ],
      "text/plain": [
       "⎡0  0  1⎤\n",
       "⎢       ⎥\n",
       "⎢1  0  0⎥\n",
       "⎢       ⎥\n",
       "⎣0  1  0⎦"
      ]
     },
     "execution_count": 35,
     "metadata": {},
     "output_type": "execute_result"
    }
   ],
   "source": [
    "A**5"
   ]
  },
  {
   "cell_type": "code",
   "execution_count": 36,
   "metadata": {},
   "outputs": [
    {
     "data": {
      "text/latex": [
       "$\\displaystyle \\left[\\begin{matrix}1 & 0 & 0\\\\0 & 1 & 0\\\\0 & 0 & 1\\end{matrix}\\right]$"
      ],
      "text/plain": [
       "⎡1  0  0⎤\n",
       "⎢       ⎥\n",
       "⎢0  1  0⎥\n",
       "⎢       ⎥\n",
       "⎣0  0  1⎦"
      ]
     },
     "execution_count": 36,
     "metadata": {},
     "output_type": "execute_result"
    }
   ],
   "source": [
    "A**6"
   ]
  },
  {
   "cell_type": "markdown",
   "metadata": {},
   "source": [
    "Heraf kan vi se at den ikke konvagerer, da mynsteret går i ring, den er der i mod divergent"
   ]
  },
  {
   "cell_type": "markdown",
   "metadata": {},
   "source": [
    "## Opgave 31"
   ]
  },
  {
   "cell_type": "markdown",
   "metadata": {},
   "source": [
    "## Opgave 32"
   ]
  },
  {
   "cell_type": "markdown",
   "metadata": {},
   "source": [
    "Til at dæmpe matricen med en faktor 0.85 benyttes formlen: $$ M = dæmpningsfaktoren * L + (1-dæmpningsfaktoren) * (1/n) * E$$"
   ]
  },
  {
   "cell_type": "code",
   "execution_count": 37,
   "metadata": {},
   "outputs": [],
   "source": [
    "E = Matrix([[1,1,1],[1,1,1],[1,1,1]])"
   ]
  },
  {
   "cell_type": "code",
   "execution_count": 58,
   "metadata": {},
   "outputs": [
    {
     "data": {
      "text/latex": [
       "$\\displaystyle \\left[\\begin{matrix}0.05 & 0.9 & 0.05\\\\0.05 & 0.05 & 0.9\\\\0.9 & 0.05 & 0.05\\end{matrix}\\right]$"
      ],
      "text/plain": [
       "⎡0.05  0.9   0.05⎤\n",
       "⎢                ⎥\n",
       "⎢0.05  0.05  0.9 ⎥\n",
       "⎢                ⎥\n",
       "⎣0.9   0.05  0.05⎦"
      ]
     },
     "execution_count": 58,
     "metadata": {},
     "output_type": "execute_result"
    }
   ],
   "source": [
    "M = 0.85*A+(1-0.85)*1/3*E\n",
    "M"
   ]
  },
  {
   "cell_type": "markdown",
   "metadata": {},
   "source": [
    "Dermed er $A_d$ lig med:"
   ]
  },
  {
   "cell_type": "code",
   "execution_count": 40,
   "metadata": {},
   "outputs": [
    {
     "data": {
      "text/latex": [
       "$\\displaystyle \\left[\\begin{matrix}0.05 & 0.9 & 0.05\\\\0.05 & 0.05 & 0.9\\\\0.9 & 0.05 & 0.05\\end{matrix}\\right]$"
      ],
      "text/plain": [
       "⎡0.05  0.9   0.05⎤\n",
       "⎢                ⎥\n",
       "⎢0.05  0.05  0.9 ⎥\n",
       "⎢                ⎥\n",
       "⎣0.9   0.05  0.05⎦"
      ]
     },
     "execution_count": 40,
     "metadata": {},
     "output_type": "execute_result"
    }
   ],
   "source": [
    "A_d = M\n",
    "A_d"
   ]
  },
  {
   "cell_type": "code",
   "execution_count": 59,
   "metadata": {},
   "outputs": [
    {
     "data": {
      "image/png": "[encoded data removed]",
      "text/latex": [
       "$\\displaystyle \\left\\{ -0.425 - 0.736121593216773 i : 1, \\  -0.425 + 0.736121593216773 i : 1, \\  1.0 + 5.1434798388906 \\cdot 10^{-66} i : 1\\right\\}$"
      ],
      "text/plain": [
       "{-0.425 - 0.736121593216773⋅ⅈ: 1, -0.425 + 0.736121593216773⋅ⅈ: 1, 1.0 + 5.143 ↪\n",
       "\n",
       "↪ 4798388906e-66⋅ⅈ: 1}"
      ]
     },
     "execution_count": 59,
     "metadata": {},
     "output_type": "execute_result"
    }
   ],
   "source": [
    "A_d.eigenvals() # egenværdierne findes"
   ]
  },
  {
   "cell_type": "code",
   "execution_count": 60,
   "metadata": {},
   "outputs": [
    {
     "name": "stdout",
     "output_type": "stream",
     "text": [
      "0.850000000000000\n",
      "0.850000000000000\n",
      "1.00000000000000\n"
     ]
    }
   ],
   "source": [
    "print(abs(-0.425 - 0.736121593216773*I))\n",
    "print(abs(-0.425 + 0.736121593216773*I))\n",
    "print(abs(1.0+5.1434798388906*10 **-66*I)) # modulus findes"
   ]
  },
  {
   "cell_type": "markdown",
   "metadata": {},
   "source": [
    "Vi kan se at en af eigenværdiernes modulus er 1, hvilket stemmer overens med at det er en markov matrix, da vi som tideligere nævnt kom frem til at en markov matrix altid har en egenværdi med modulus 1."
   ]
  },
  {
   "cell_type": "code",
   "execution_count": 61,
   "metadata": {},
   "outputs": [
    {
     "data": {
      "text/latex": [
       "$\\displaystyle \\left[\\begin{matrix}0.0925 & 0.0925 & 0.815\\\\0.815 & 0.0925 & 0.0925\\\\0.0925 & 0.815 & 0.0925\\end{matrix}\\right]$"
      ],
      "text/plain": [
       "⎡0.0925  0.0925  0.815 ⎤\n",
       "⎢                      ⎥\n",
       "⎢0.815   0.0925  0.0925⎥\n",
       "⎢                      ⎥\n",
       "⎣0.0925  0.815   0.0925⎦"
      ]
     },
     "execution_count": 61,
     "metadata": {},
     "output_type": "execute_result"
    }
   ],
   "source": [
    "A_d**2 # Vi tjekker om den konvergerer"
   ]
  },
  {
   "cell_type": "code",
   "execution_count": 54,
   "metadata": {},
   "outputs": [
    {
     "data": {
      "text/latex": [
       "$\\displaystyle \\left[\\begin{matrix}0.74275 & 0.128625 & 0.128625\\\\0.128625 & 0.74275 & 0.128625\\\\0.128625 & 0.128625 & 0.74275\\end{matrix}\\right]$"
      ],
      "text/plain": [
       "⎡0.74275   0.128625  0.128625⎤\n",
       "⎢                            ⎥\n",
       "⎢0.128625  0.74275   0.128625⎥\n",
       "⎢                            ⎥\n",
       "⎣0.128625  0.128625  0.74275 ⎦"
      ]
     },
     "execution_count": 54,
     "metadata": {},
     "output_type": "execute_result"
    }
   ],
   "source": [
    "A_d**3"
   ]
  },
  {
   "cell_type": "code",
   "execution_count": 55,
   "metadata": {},
   "outputs": [
    {
     "data": {
      "text/latex": [
       "$\\displaystyle \\left[\\begin{matrix}0.15933125 & 0.6813375 & 0.15933125\\\\0.15933125 & 0.15933125 & 0.6813375\\\\0.6813375 & 0.15933125 & 0.15933125\\end{matrix}\\right]$"
      ],
      "text/plain": [
       "⎡0.15933125  0.6813375   0.15933125⎤\n",
       "⎢                                  ⎥\n",
       "⎢0.15933125  0.15933125  0.6813375 ⎥\n",
       "⎢                                  ⎥\n",
       "⎣0.6813375   0.15933125  0.15933125⎦"
      ]
     },
     "execution_count": 55,
     "metadata": {},
     "output_type": "execute_result"
    }
   ],
   "source": [
    "A_d**4"
   ]
  },
  {
   "cell_type": "code",
   "execution_count": 56,
   "metadata": {},
   "outputs": [
    {
     "data": {
      "text/latex": [
       "$\\displaystyle \\left[\\begin{matrix}0.1854315625 & 0.1854315625 & 0.629136875\\\\0.629136875 & 0.1854315625 & 0.1854315625\\\\0.1854315625 & 0.629136875 & 0.1854315625\\end{matrix}\\right]$"
      ],
      "text/plain": [
       "⎡0.1854315625  0.1854315625  0.629136875 ⎤\n",
       "⎢                                        ⎥\n",
       "⎢0.629136875   0.1854315625  0.1854315625⎥\n",
       "⎢                                        ⎥\n",
       "⎣0.1854315625  0.629136875   0.1854315625⎦"
      ]
     },
     "execution_count": 56,
     "metadata": {},
     "output_type": "execute_result"
    }
   ],
   "source": [
    "A_d**5"
   ]
  },
  {
   "cell_type": "markdown",
   "metadata": {},
   "source": [
    "Ja $A_d$ konvergerer for k -> uendelig, da matricens mynster ikke går i ring"
   ]
  },
  {
   "cell_type": "markdown",
   "metadata": {},
   "source": [
    "## Opgave 33"
   ]
  },
  {
   "cell_type": "markdown",
   "metadata": {},
   "source": [
    "Forklar hvorfor Sætning 1 er relevant for PageRank algoritmen."
   ]
  },
  {
   "cell_type": "markdown",
   "metadata": {},
   "source": [
    "(Den første del af sætningen siger at n i en markov metrix med strengt positive elementer skal være over 2, hvilket betyder at matricen skal være mindst en 2 x 2 matrice. Den næste del siger at der skal være en entydig vektor (kun en vektor) og at $A^T$ * x = x, hvilket betyder at egenværdierne skal være 1, når alle elementer x er positive og summerer til 1.)\n",
    "\n",
    "Til sidst i sætningen står der $$lim(A^T)^k = x*e^t = [x, x, x,..., x]$$ i den første del er $A^T$= L, hvilket skal benyttes til PageRank algoritmen, og her tages lim af linkmatricen i k, altså ganget med sig selv k gange. Den næste del af ligningen indeholder x, hvilket er en egenvektor og e^t, hvilket vi fra opgave 31, ved er en enhedsvektor bestående af 1'taller. Den sidste del af ligningen viser udfaldet af det hele, og siger at det bliver til en transponeret vektor indholdene x, som ifølge chatGPT er PageRank-vektoren. (Tror det hænger sammen på den måde)\n",
    "\n",
    "\n",
    "Det er relevant for PageRank algoritmen, da en del af definitionen på en linkmatrice er at søjlerne hver især har en sum på 1, hvilket betyder at linkmatricen transponeret er en markov matrix"
   ]
  },
  {
   "cell_type": "markdown",
   "metadata": {},
   "source": [
    "## Opgave 34"
   ]
  },
  {
   "cell_type": "markdown",
   "metadata": {},
   "source": [
    "Hænger meget sammen med opgave 33"
   ]
  },
  {
   "cell_type": "markdown",
   "metadata": {},
   "source": []
  },
  {
   "cell_type": "markdown",
   "metadata": {},
   "source": [
    "e = enhedsvektor = [1,1,1,...,1], derfor er:"
   ]
  },
  {
   "cell_type": "markdown",
   "metadata": {},
   "source": [
    "$$ x*e^t = x* [1,1,1,...,1]^t = x*[1,1,1,...,1] = [x,x,x,...,x] $$"
   ]
  }
 ],
 "metadata": {
  "kernelspec": {
   "display_name": "base",
   "language": "python",
   "name": "python3"
  },
  "language_info": {
   "codemirror_mode": {
    "name": "ipython",
    "version": 3
   },
   "file_extension": ".py",
   "mimetype": "text/x-python",
   "name": "python",
   "nbconvert_exporter": "python",
   "pygments_lexer": "ipython3",
   "version": "3.11.10"
  }
 },
 "nbformat": 4,
 "nbformat_minor": 2
}
