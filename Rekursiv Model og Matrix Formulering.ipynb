{
 "cells": [
  {
   "cell_type": "code",
   "execution_count": 1,
   "metadata": {},
   "outputs": [],
   "source": [
    "import cmath\n",
    "import matplotlib\n",
    "import sympy as sp"
   ]
  },
  {
   "cell_type": "markdown",
   "metadata": {},
   "source": [
    "## Opgave 14"
   ]
  },
  {
   "cell_type": "markdown",
   "metadata": {},
   "source": [
    "$PR_{n+1}(p)$: Dette er chancen for at du lander på siden p, pagerank.\n",
    "\n",
    "$(1-d)\\frac{1}{N}$: Dette er chancen for at du lander på siden p tilfældigt.\n",
    "\n",
    "$ \\sum_{q \\in inbound(p)}$: Chancen for at lande på q, som linker til p divideret med antallet af sider som q linker til. Dette er ganget med en dæmper\n"
   ]
  },
  {
   "cell_type": "markdown",
   "metadata": {},
   "source": [
    "# Opgave 15"
   ]
  },
  {
   "cell_type": "code",
   "execution_count": 2,
   "metadata": {},
   "outputs": [],
   "source": [
    "W1 = {\n",
    "    'P1': {'P2', 'P3'},\n",
    "    'P2': {'P3'},\n",
    "    'P3': {'P1'},\n",
    "    'P4': {'P5'},\n",
    "    'P5': {}\n",
    "}\n",
    "W2 = {\n",
    "    'P1': {'P2'},\n",
    "    'P2': {'P3'},\n",
    "    'P3': {'P1'},\n",
    "    'P4': {'P5'},\n",
    "    'P5': {'P6'},\n",
    "    'P6': {'P4'}\n",
    "}"
   ]
  },
  {
   "cell_type": "code",
   "execution_count": null,
   "metadata": {},
   "outputs": [],
   "source": [
    "def rank_update(web, PageRanks, page, d):\n",
    "\n",
    "        \"\"\"\n",
    "        Opdaterer værdien af PageRank for en side baseret på den rekursive formel\n",
    "        Sider uden udgående links (sinks) behandles som om de linker til alle sider på nettet.\n",
    "\n",
    "        Input: \n",
    "            web og PageRanks er dictionaries som i outputtet fra \"make_web\" og \"random_surf\",\n",
    "            page er nøglen til den side, hvis rank vi ønsker at opdatere, og\n",
    "            d er dampingfaktoren.\n",
    "        Output: \n",
    "            PageRank opdateres i henhold til ovenstående formel,\n",
    "            og denne funktion returnerer et float \"increment\", den (absolutte) forskel\n",
    "            mellem den tidligere værdi og den opdaterede værdi af PR(p).\n",
    "        \"\"\"\n",
    "\n",
    "        return increment"
   ]
  },
  {
   "cell_type": "code",
   "execution_count": null,
   "metadata": {},
   "outputs": [],
   "source": [
    "def recursive_PageRank(web, stopvalue=0.0001, max_iterations=200, d=0.85):\n",
    "    \"\"\"\n",
    "    Implementerer den rekursive version af PageRank-algoritmen ved først at oprette\n",
    "    en PageRank på 1/N til alle sider (hvor N er det samlede antal sider)\n",
    "    og derefter anvende \"rank_update\" gentagne gange, indtil en af de to stopbetingelser\n",
    "    er opnået:\n",
    "    stopbetingelse 1: den maksimale ændring fra trin n til trin (n+1) over alle PageRank\n",
    "    er mindre end stopværdien,\n",
    "    Stopbetingelse 2: antallet af iterationer har nået \"max_iterations\".\n",
    "\n",
    "    Input: web er et dictionary som i outputtet af \"make_web\", d er dæmpningen,\n",
    "    stopvalue er et positivt float, max_iterations er et positivt heltal.\n",
    "    \"\"\"\n",
    "\n",
    "    PageRanks = dict()\n",
    "\n",
    "    return PageRanks, iteration"
   ]
  },
  {
   "cell_type": "markdown",
   "metadata": {},
   "source": []
  }
 ],
 "metadata": {
  "kernelspec": {
   "display_name": "base",
   "language": "python",
   "name": "python3"
  },
  "language_info": {
   "codemirror_mode": {
    "name": "ipython",
    "version": 3
   },
   "file_extension": ".py",
   "mimetype": "text/x-python",
   "name": "python",
   "nbconvert_exporter": "python",
   "pygments_lexer": "ipython3",
   "version": "3.11.10"
  }
 },
 "nbformat": 4,
 "nbformat_minor": 2
}
